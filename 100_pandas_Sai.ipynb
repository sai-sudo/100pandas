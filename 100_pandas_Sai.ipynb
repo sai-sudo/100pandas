{
  "nbformat": 4,
  "nbformat_minor": 0,
  "metadata": {
    "kernelspec": {
      "display_name": "Python 3",
      "language": "python",
      "name": "python3"
    },
    "language_info": {
      "codemirror_mode": {
        "name": "ipython",
        "version": 3
      },
      "file_extension": ".py",
      "mimetype": "text/x-python",
      "name": "python",
      "nbconvert_exporter": "python",
      "pygments_lexer": "ipython3",
      "version": "3.7.4"
    },
    "colab": {
      "name": "100-pandas-Sai.ipynb",
      "provenance": [],
      "include_colab_link": true
    }
  },
  "cells": [
    {
      "cell_type": "markdown",
      "metadata": {
        "id": "view-in-github",
        "colab_type": "text"
      },
      "source": [
        "<a href=\"https://colab.research.google.com/github/sai-sudo/100pandas/blob/main/100_pandas_Sai.ipynb\" target=\"_parent\"><img src=\"https://colab.research.google.com/assets/colab-badge.svg\" alt=\"Open In Colab\"/></a>"
      ]
    },
    {
      "cell_type": "markdown",
      "metadata": {
        "id": "477SXtJjln9s"
      },
      "source": [
        "# 100 pandas puzzles\n",
        "\n",
        "Inspired by [100 Numpy exerises](https://github.com/rougier/numpy-100), here are 100* short puzzles for testing your knowledge of [pandas'](http://pandas.pydata.org/) power.\n",
        "\n",
        "Since pandas is a large library with many different specialist features and functions, these excercises focus mainly on the fundamentals of manipulating data (indexing, grouping, aggregating, cleaning), making use of the core DataFrame and Series objects. \n",
        "\n",
        "Many of the excerises here are stright-forward in that the solutions require no more than a few lines of code (in pandas or NumPy... don't go using pure Python or Cython!). Choosing the right methods and following best practices is the underlying goal.\n",
        "\n",
        "The exercises are loosely divided in sections. Each section has a difficulty rating; these ratings are subjective, of course, but should be a seen as a rough guide as to how inventive the required solution is.\n",
        "\n",
        "If you're just starting out with pandas and you are looking for some other resources, the official documentation  is very extensive. In particular, some good places get a broader overview of pandas are...\n",
        "\n",
        "- [10 minutes to pandas](http://pandas.pydata.org/pandas-docs/stable/10min.html)\n",
        "- [pandas basics](http://pandas.pydata.org/pandas-docs/stable/basics.html)\n",
        "- [tutorials](http://pandas.pydata.org/pandas-docs/stable/tutorials.html)\n",
        "- [cookbook and idioms](http://pandas.pydata.org/pandas-docs/stable/cookbook.html#cookbook)\n",
        "\n",
        "Enjoy the puzzles!\n",
        "\n",
        "\\* *the list of exercises is not yet complete! Pull requests or suggestions for additional exercises, corrections and improvements are welcomed.*"
      ]
    },
    {
      "cell_type": "markdown",
      "metadata": {
        "id": "2BEiqnHkln95"
      },
      "source": [
        "## Importing pandas\n",
        "\n",
        "### Getting started and checking your pandas setup\n",
        "\n",
        "Difficulty: *easy* \n",
        "\n",
        "**1.** Import pandas under the alias `pd`."
      ]
    },
    {
      "cell_type": "code",
      "metadata": {
        "collapsed": true,
        "id": "2AXEk6HSln97"
      },
      "source": [
        "import pandas as pd\n"
      ],
      "execution_count": 2,
      "outputs": []
    },
    {
      "cell_type": "markdown",
      "metadata": {
        "id": "Z3HV6DP9ln99"
      },
      "source": [
        "**2.** Print the version of pandas that has been imported."
      ]
    },
    {
      "cell_type": "code",
      "metadata": {
        "collapsed": true,
        "colab": {
          "base_uri": "https://localhost:8080/"
        },
        "id": "Cdt__V7qln9-",
        "outputId": "b53cb427-ea8e-4b6d-a773-142cb80375f6"
      },
      "source": [
        "print (pd.__version__)"
      ],
      "execution_count": 3,
      "outputs": [
        {
          "output_type": "stream",
          "name": "stdout",
          "text": [
            "1.1.5\n"
          ]
        }
      ]
    },
    {
      "cell_type": "markdown",
      "metadata": {
        "id": "viTLxENNln-A"
      },
      "source": [
        "**3.** Print out all the *version* information of the libraries that are required by the pandas library."
      ]
    },
    {
      "cell_type": "code",
      "metadata": {
        "collapsed": true,
        "colab": {
          "base_uri": "https://localhost:8080/"
        },
        "id": "ZVjrsg8jln-B",
        "outputId": "7e8f0616-b2bd-4784-9d3a-4b5c471156ab"
      },
      "source": [
        "pd.show_versions()"
      ],
      "execution_count": 4,
      "outputs": [
        {
          "output_type": "stream",
          "name": "stderr",
          "text": [
            "/usr/local/lib/python3.7/dist-packages/psycopg2/__init__.py:144: UserWarning: The psycopg2 wheel package will be renamed from release 2.8; in order to keep installing from binary please use \"pip install psycopg2-binary\" instead. For details see: <http://initd.org/psycopg/docs/install.html#binary-install-from-pypi>.\n",
            "  \"\"\")\n"
          ]
        },
        {
          "output_type": "stream",
          "name": "stdout",
          "text": [
            "\n",
            "INSTALLED VERSIONS\n",
            "------------------\n",
            "commit           : b5958ee1999e9aead1938c0bba2b674378807b3d\n",
            "python           : 3.7.11.final.0\n",
            "python-bits      : 64\n",
            "OS               : Linux\n",
            "OS-release       : 5.4.104+\n",
            "Version          : #1 SMP Sat Jun 5 09:50:34 PDT 2021\n",
            "machine          : x86_64\n",
            "processor        : x86_64\n",
            "byteorder        : little\n",
            "LC_ALL           : None\n",
            "LANG             : en_US.UTF-8\n",
            "LOCALE           : en_US.UTF-8\n",
            "\n",
            "pandas           : 1.1.5\n",
            "numpy            : 1.19.5\n",
            "pytz             : 2018.9\n",
            "dateutil         : 2.8.2\n",
            "pip              : 21.1.3\n",
            "setuptools       : 57.4.0\n",
            "Cython           : 0.29.24\n",
            "pytest           : 3.6.4\n",
            "hypothesis       : None\n",
            "sphinx           : 1.8.5\n",
            "blosc            : None\n",
            "feather          : 0.4.1\n",
            "xlsxwriter       : None\n",
            "lxml.etree       : 4.2.6\n",
            "html5lib         : 1.0.1\n",
            "pymysql          : None\n",
            "psycopg2         : 2.7.6.1 (dt dec pq3 ext lo64)\n",
            "jinja2           : 2.11.3\n",
            "IPython          : 5.5.0\n",
            "pandas_datareader: 0.9.0\n",
            "bs4              : 4.6.3\n",
            "bottleneck       : 1.3.2\n",
            "fsspec           : None\n",
            "fastparquet      : None\n",
            "gcsfs            : None\n",
            "matplotlib       : 3.2.2\n",
            "numexpr          : 2.7.3\n",
            "odfpy            : None\n",
            "openpyxl         : 2.5.9\n",
            "pandas_gbq       : 0.13.3\n",
            "pyarrow          : 3.0.0\n",
            "pytables         : None\n",
            "pyxlsb           : None\n",
            "s3fs             : None\n",
            "scipy            : 1.4.1\n",
            "sqlalchemy       : 1.4.22\n",
            "tables           : 3.4.4\n",
            "tabulate         : 0.8.9\n",
            "xarray           : 0.18.2\n",
            "xlrd             : 1.1.0\n",
            "xlwt             : 1.3.0\n",
            "numba            : 0.51.2\n"
          ]
        }
      ]
    },
    {
      "cell_type": "markdown",
      "metadata": {
        "id": "Uvt4vSw-ln-D"
      },
      "source": [
        "## DataFrame basics\n",
        "\n",
        "### A few of the fundamental routines for selecting, sorting, adding and aggregating data in DataFrames\n",
        "\n",
        "Difficulty: *easy*\n",
        "\n",
        "Note: remember to import numpy using:\n",
        "```python\n",
        "import numpy as np\n",
        "```\n",
        "\n",
        "Consider the following Python dictionary `data` and Python list `labels`:\n",
        "\n",
        "``` python\n",
        "data = {'animal': ['cat', 'cat', 'snake', 'dog', 'dog', 'cat', 'snake', 'cat', 'dog', 'dog'],\n",
        "        'age': [2.5, 3, 0.5, np.nan, 5, 2, 4.5, np.nan, 7, 3],\n",
        "        'visits': [1, 3, 2, 3, 2, 3, 1, 1, 2, 1],\n",
        "        'priority': ['yes', 'yes', 'no', 'yes', 'no', 'no', 'no', 'yes', 'no', 'no']}\n",
        "\n",
        "labels = ['a', 'b', 'c', 'd', 'e', 'f', 'g', 'h', 'i', 'j']\n",
        "```\n",
        "(This is just some meaningless data I made up with the theme of animals and trips to a vet.)\n",
        "\n",
        "**4.** Create a DataFrame `df` from this dictionary `data` which has the index `labels`."
      ]
    },
    {
      "cell_type": "code",
      "metadata": {
        "collapsed": true,
        "colab": {
          "base_uri": "https://localhost:8080/",
          "height": 363
        },
        "id": "rNbcrny_ln-G",
        "outputId": "f34e5a86-5613-43b3-e052-9a8ca1f900eb"
      },
      "source": [
        "import numpy as np\n",
        "\n",
        "data = {'animal': ['cat', 'cat', 'snake', 'dog', 'dog', 'cat', 'snake', 'cat', 'dog', 'dog'],\n",
        "        'age': [2.5, 3, 0.5, np.nan, 5, 2, 4.5, np.nan, 7, 3],\n",
        "        'visits': [1, 3, 2, 3, 2, 3, 1, 1, 2, 1],\n",
        "        'priority': ['yes', 'yes', 'no', 'yes', 'no', 'no', 'no', 'yes', 'no', 'no']}\n",
        "\n",
        "labels = ['a', 'b', 'c', 'd', 'e', 'f', 'g', 'h', 'i', 'j']\n",
        "\n",
        "df = pd.DataFrame(data, index=labels)\n",
        "df"
      ],
      "execution_count": 5,
      "outputs": [
        {
          "output_type": "execute_result",
          "data": {
            "text/html": [
              "<div>\n",
              "<style scoped>\n",
              "    .dataframe tbody tr th:only-of-type {\n",
              "        vertical-align: middle;\n",
              "    }\n",
              "\n",
              "    .dataframe tbody tr th {\n",
              "        vertical-align: top;\n",
              "    }\n",
              "\n",
              "    .dataframe thead th {\n",
              "        text-align: right;\n",
              "    }\n",
              "</style>\n",
              "<table border=\"1\" class=\"dataframe\">\n",
              "  <thead>\n",
              "    <tr style=\"text-align: right;\">\n",
              "      <th></th>\n",
              "      <th>animal</th>\n",
              "      <th>age</th>\n",
              "      <th>visits</th>\n",
              "      <th>priority</th>\n",
              "    </tr>\n",
              "  </thead>\n",
              "  <tbody>\n",
              "    <tr>\n",
              "      <th>a</th>\n",
              "      <td>cat</td>\n",
              "      <td>2.5</td>\n",
              "      <td>1</td>\n",
              "      <td>yes</td>\n",
              "    </tr>\n",
              "    <tr>\n",
              "      <th>b</th>\n",
              "      <td>cat</td>\n",
              "      <td>3.0</td>\n",
              "      <td>3</td>\n",
              "      <td>yes</td>\n",
              "    </tr>\n",
              "    <tr>\n",
              "      <th>c</th>\n",
              "      <td>snake</td>\n",
              "      <td>0.5</td>\n",
              "      <td>2</td>\n",
              "      <td>no</td>\n",
              "    </tr>\n",
              "    <tr>\n",
              "      <th>d</th>\n",
              "      <td>dog</td>\n",
              "      <td>NaN</td>\n",
              "      <td>3</td>\n",
              "      <td>yes</td>\n",
              "    </tr>\n",
              "    <tr>\n",
              "      <th>e</th>\n",
              "      <td>dog</td>\n",
              "      <td>5.0</td>\n",
              "      <td>2</td>\n",
              "      <td>no</td>\n",
              "    </tr>\n",
              "    <tr>\n",
              "      <th>f</th>\n",
              "      <td>cat</td>\n",
              "      <td>2.0</td>\n",
              "      <td>3</td>\n",
              "      <td>no</td>\n",
              "    </tr>\n",
              "    <tr>\n",
              "      <th>g</th>\n",
              "      <td>snake</td>\n",
              "      <td>4.5</td>\n",
              "      <td>1</td>\n",
              "      <td>no</td>\n",
              "    </tr>\n",
              "    <tr>\n",
              "      <th>h</th>\n",
              "      <td>cat</td>\n",
              "      <td>NaN</td>\n",
              "      <td>1</td>\n",
              "      <td>yes</td>\n",
              "    </tr>\n",
              "    <tr>\n",
              "      <th>i</th>\n",
              "      <td>dog</td>\n",
              "      <td>7.0</td>\n",
              "      <td>2</td>\n",
              "      <td>no</td>\n",
              "    </tr>\n",
              "    <tr>\n",
              "      <th>j</th>\n",
              "      <td>dog</td>\n",
              "      <td>3.0</td>\n",
              "      <td>1</td>\n",
              "      <td>no</td>\n",
              "    </tr>\n",
              "  </tbody>\n",
              "</table>\n",
              "</div>"
            ],
            "text/plain": [
              "  animal  age  visits priority\n",
              "a    cat  2.5       1      yes\n",
              "b    cat  3.0       3      yes\n",
              "c  snake  0.5       2       no\n",
              "d    dog  NaN       3      yes\n",
              "e    dog  5.0       2       no\n",
              "f    cat  2.0       3       no\n",
              "g  snake  4.5       1       no\n",
              "h    cat  NaN       1      yes\n",
              "i    dog  7.0       2       no\n",
              "j    dog  3.0       1       no"
            ]
          },
          "metadata": {},
          "execution_count": 5
        }
      ]
    },
    {
      "cell_type": "markdown",
      "metadata": {
        "id": "InFHGfMFln-J"
      },
      "source": [
        "**5.** Display a summary of the basic information about this DataFrame and its data (*hint: there is a single method that can be called on the DataFrame*)."
      ]
    },
    {
      "cell_type": "code",
      "metadata": {
        "collapsed": true,
        "colab": {
          "base_uri": "https://localhost:8080/",
          "height": 491
        },
        "id": "m_tFWZGeln-L",
        "outputId": "335bca26-c237-4b6a-eaf5-138752606bf8"
      },
      "source": [
        "df.info()\n",
        "df.describe()"
      ],
      "execution_count": 6,
      "outputs": [
        {
          "output_type": "stream",
          "name": "stdout",
          "text": [
            "<class 'pandas.core.frame.DataFrame'>\n",
            "Index: 10 entries, a to j\n",
            "Data columns (total 4 columns):\n",
            " #   Column    Non-Null Count  Dtype  \n",
            "---  ------    --------------  -----  \n",
            " 0   animal    10 non-null     object \n",
            " 1   age       8 non-null      float64\n",
            " 2   visits    10 non-null     int64  \n",
            " 3   priority  10 non-null     object \n",
            "dtypes: float64(1), int64(1), object(2)\n",
            "memory usage: 400.0+ bytes\n"
          ]
        },
        {
          "output_type": "execute_result",
          "data": {
            "text/html": [
              "<div>\n",
              "<style scoped>\n",
              "    .dataframe tbody tr th:only-of-type {\n",
              "        vertical-align: middle;\n",
              "    }\n",
              "\n",
              "    .dataframe tbody tr th {\n",
              "        vertical-align: top;\n",
              "    }\n",
              "\n",
              "    .dataframe thead th {\n",
              "        text-align: right;\n",
              "    }\n",
              "</style>\n",
              "<table border=\"1\" class=\"dataframe\">\n",
              "  <thead>\n",
              "    <tr style=\"text-align: right;\">\n",
              "      <th></th>\n",
              "      <th>age</th>\n",
              "      <th>visits</th>\n",
              "    </tr>\n",
              "  </thead>\n",
              "  <tbody>\n",
              "    <tr>\n",
              "      <th>count</th>\n",
              "      <td>8.000000</td>\n",
              "      <td>10.000000</td>\n",
              "    </tr>\n",
              "    <tr>\n",
              "      <th>mean</th>\n",
              "      <td>3.437500</td>\n",
              "      <td>1.900000</td>\n",
              "    </tr>\n",
              "    <tr>\n",
              "      <th>std</th>\n",
              "      <td>2.007797</td>\n",
              "      <td>0.875595</td>\n",
              "    </tr>\n",
              "    <tr>\n",
              "      <th>min</th>\n",
              "      <td>0.500000</td>\n",
              "      <td>1.000000</td>\n",
              "    </tr>\n",
              "    <tr>\n",
              "      <th>25%</th>\n",
              "      <td>2.375000</td>\n",
              "      <td>1.000000</td>\n",
              "    </tr>\n",
              "    <tr>\n",
              "      <th>50%</th>\n",
              "      <td>3.000000</td>\n",
              "      <td>2.000000</td>\n",
              "    </tr>\n",
              "    <tr>\n",
              "      <th>75%</th>\n",
              "      <td>4.625000</td>\n",
              "      <td>2.750000</td>\n",
              "    </tr>\n",
              "    <tr>\n",
              "      <th>max</th>\n",
              "      <td>7.000000</td>\n",
              "      <td>3.000000</td>\n",
              "    </tr>\n",
              "  </tbody>\n",
              "</table>\n",
              "</div>"
            ],
            "text/plain": [
              "            age     visits\n",
              "count  8.000000  10.000000\n",
              "mean   3.437500   1.900000\n",
              "std    2.007797   0.875595\n",
              "min    0.500000   1.000000\n",
              "25%    2.375000   1.000000\n",
              "50%    3.000000   2.000000\n",
              "75%    4.625000   2.750000\n",
              "max    7.000000   3.000000"
            ]
          },
          "metadata": {},
          "execution_count": 6
        }
      ]
    },
    {
      "cell_type": "markdown",
      "metadata": {
        "id": "QMDACB3Nln-M"
      },
      "source": [
        "**6.** Return the first 3 rows of the DataFrame `df`."
      ]
    },
    {
      "cell_type": "code",
      "metadata": {
        "collapsed": true,
        "colab": {
          "base_uri": "https://localhost:8080/",
          "height": 143
        },
        "id": "px2v2szPln-N",
        "outputId": "dfa644f9-f20b-410d-d968-3cfb5b1e2963"
      },
      "source": [
        "df.head(3)\n",
        "\n",
        "df.iloc[:3]"
      ],
      "execution_count": 7,
      "outputs": [
        {
          "output_type": "execute_result",
          "data": {
            "text/html": [
              "<div>\n",
              "<style scoped>\n",
              "    .dataframe tbody tr th:only-of-type {\n",
              "        vertical-align: middle;\n",
              "    }\n",
              "\n",
              "    .dataframe tbody tr th {\n",
              "        vertical-align: top;\n",
              "    }\n",
              "\n",
              "    .dataframe thead th {\n",
              "        text-align: right;\n",
              "    }\n",
              "</style>\n",
              "<table border=\"1\" class=\"dataframe\">\n",
              "  <thead>\n",
              "    <tr style=\"text-align: right;\">\n",
              "      <th></th>\n",
              "      <th>animal</th>\n",
              "      <th>age</th>\n",
              "      <th>visits</th>\n",
              "      <th>priority</th>\n",
              "    </tr>\n",
              "  </thead>\n",
              "  <tbody>\n",
              "    <tr>\n",
              "      <th>a</th>\n",
              "      <td>cat</td>\n",
              "      <td>2.5</td>\n",
              "      <td>1</td>\n",
              "      <td>yes</td>\n",
              "    </tr>\n",
              "    <tr>\n",
              "      <th>b</th>\n",
              "      <td>cat</td>\n",
              "      <td>3.0</td>\n",
              "      <td>3</td>\n",
              "      <td>yes</td>\n",
              "    </tr>\n",
              "    <tr>\n",
              "      <th>c</th>\n",
              "      <td>snake</td>\n",
              "      <td>0.5</td>\n",
              "      <td>2</td>\n",
              "      <td>no</td>\n",
              "    </tr>\n",
              "  </tbody>\n",
              "</table>\n",
              "</div>"
            ],
            "text/plain": [
              "  animal  age  visits priority\n",
              "a    cat  2.5       1      yes\n",
              "b    cat  3.0       3      yes\n",
              "c  snake  0.5       2       no"
            ]
          },
          "metadata": {},
          "execution_count": 7
        }
      ]
    },
    {
      "cell_type": "markdown",
      "metadata": {
        "id": "fpJEwH9Lln-O"
      },
      "source": [
        "**7.** Select just the 'animal' and 'age' columns from the DataFrame `df`."
      ]
    },
    {
      "cell_type": "code",
      "metadata": {
        "collapsed": true,
        "colab": {
          "base_uri": "https://localhost:8080/",
          "height": 363
        },
        "id": "n8rxSYcnln-P",
        "outputId": "b517222c-b561-4caa-e36c-e4a0ba4a3ce0"
      },
      "source": [
        "df[['animal','age']]"
      ],
      "execution_count": 8,
      "outputs": [
        {
          "output_type": "execute_result",
          "data": {
            "text/html": [
              "<div>\n",
              "<style scoped>\n",
              "    .dataframe tbody tr th:only-of-type {\n",
              "        vertical-align: middle;\n",
              "    }\n",
              "\n",
              "    .dataframe tbody tr th {\n",
              "        vertical-align: top;\n",
              "    }\n",
              "\n",
              "    .dataframe thead th {\n",
              "        text-align: right;\n",
              "    }\n",
              "</style>\n",
              "<table border=\"1\" class=\"dataframe\">\n",
              "  <thead>\n",
              "    <tr style=\"text-align: right;\">\n",
              "      <th></th>\n",
              "      <th>animal</th>\n",
              "      <th>age</th>\n",
              "    </tr>\n",
              "  </thead>\n",
              "  <tbody>\n",
              "    <tr>\n",
              "      <th>a</th>\n",
              "      <td>cat</td>\n",
              "      <td>2.5</td>\n",
              "    </tr>\n",
              "    <tr>\n",
              "      <th>b</th>\n",
              "      <td>cat</td>\n",
              "      <td>3.0</td>\n",
              "    </tr>\n",
              "    <tr>\n",
              "      <th>c</th>\n",
              "      <td>snake</td>\n",
              "      <td>0.5</td>\n",
              "    </tr>\n",
              "    <tr>\n",
              "      <th>d</th>\n",
              "      <td>dog</td>\n",
              "      <td>NaN</td>\n",
              "    </tr>\n",
              "    <tr>\n",
              "      <th>e</th>\n",
              "      <td>dog</td>\n",
              "      <td>5.0</td>\n",
              "    </tr>\n",
              "    <tr>\n",
              "      <th>f</th>\n",
              "      <td>cat</td>\n",
              "      <td>2.0</td>\n",
              "    </tr>\n",
              "    <tr>\n",
              "      <th>g</th>\n",
              "      <td>snake</td>\n",
              "      <td>4.5</td>\n",
              "    </tr>\n",
              "    <tr>\n",
              "      <th>h</th>\n",
              "      <td>cat</td>\n",
              "      <td>NaN</td>\n",
              "    </tr>\n",
              "    <tr>\n",
              "      <th>i</th>\n",
              "      <td>dog</td>\n",
              "      <td>7.0</td>\n",
              "    </tr>\n",
              "    <tr>\n",
              "      <th>j</th>\n",
              "      <td>dog</td>\n",
              "      <td>3.0</td>\n",
              "    </tr>\n",
              "  </tbody>\n",
              "</table>\n",
              "</div>"
            ],
            "text/plain": [
              "  animal  age\n",
              "a    cat  2.5\n",
              "b    cat  3.0\n",
              "c  snake  0.5\n",
              "d    dog  NaN\n",
              "e    dog  5.0\n",
              "f    cat  2.0\n",
              "g  snake  4.5\n",
              "h    cat  NaN\n",
              "i    dog  7.0\n",
              "j    dog  3.0"
            ]
          },
          "metadata": {},
          "execution_count": 8
        }
      ]
    },
    {
      "cell_type": "markdown",
      "metadata": {
        "id": "GtHn-N_Sln-Q"
      },
      "source": [
        "**8.** Select the data in rows `[3, 4, 8]` *and* in columns `['animal', 'age']`."
      ]
    },
    {
      "cell_type": "code",
      "metadata": {
        "collapsed": true,
        "colab": {
          "base_uri": "https://localhost:8080/",
          "height": 143
        },
        "id": "5VBcRmnQln-Q",
        "outputId": "82279112-1f37-4037-c37b-450e44405cad"
      },
      "source": [
        "df.loc[df.index[[3,4,8]],['animal','age']]"
      ],
      "execution_count": 9,
      "outputs": [
        {
          "output_type": "execute_result",
          "data": {
            "text/html": [
              "<div>\n",
              "<style scoped>\n",
              "    .dataframe tbody tr th:only-of-type {\n",
              "        vertical-align: middle;\n",
              "    }\n",
              "\n",
              "    .dataframe tbody tr th {\n",
              "        vertical-align: top;\n",
              "    }\n",
              "\n",
              "    .dataframe thead th {\n",
              "        text-align: right;\n",
              "    }\n",
              "</style>\n",
              "<table border=\"1\" class=\"dataframe\">\n",
              "  <thead>\n",
              "    <tr style=\"text-align: right;\">\n",
              "      <th></th>\n",
              "      <th>animal</th>\n",
              "      <th>age</th>\n",
              "    </tr>\n",
              "  </thead>\n",
              "  <tbody>\n",
              "    <tr>\n",
              "      <th>d</th>\n",
              "      <td>dog</td>\n",
              "      <td>NaN</td>\n",
              "    </tr>\n",
              "    <tr>\n",
              "      <th>e</th>\n",
              "      <td>dog</td>\n",
              "      <td>5.0</td>\n",
              "    </tr>\n",
              "    <tr>\n",
              "      <th>i</th>\n",
              "      <td>dog</td>\n",
              "      <td>7.0</td>\n",
              "    </tr>\n",
              "  </tbody>\n",
              "</table>\n",
              "</div>"
            ],
            "text/plain": [
              "  animal  age\n",
              "d    dog  NaN\n",
              "e    dog  5.0\n",
              "i    dog  7.0"
            ]
          },
          "metadata": {},
          "execution_count": 9
        }
      ]
    },
    {
      "cell_type": "markdown",
      "metadata": {
        "id": "SgTJxFMqln-R"
      },
      "source": [
        "**9.** Select only the rows where the number of visits is greater than 3."
      ]
    },
    {
      "cell_type": "code",
      "metadata": {
        "collapsed": true,
        "colab": {
          "base_uri": "https://localhost:8080/",
          "height": 49
        },
        "id": "cX3nK63zln-R",
        "outputId": "5786257d-daa3-4291-ac60-3a2e956eab55"
      },
      "source": [
        "df[df['visits']>3]"
      ],
      "execution_count": 10,
      "outputs": [
        {
          "output_type": "execute_result",
          "data": {
            "text/html": [
              "<div>\n",
              "<style scoped>\n",
              "    .dataframe tbody tr th:only-of-type {\n",
              "        vertical-align: middle;\n",
              "    }\n",
              "\n",
              "    .dataframe tbody tr th {\n",
              "        vertical-align: top;\n",
              "    }\n",
              "\n",
              "    .dataframe thead th {\n",
              "        text-align: right;\n",
              "    }\n",
              "</style>\n",
              "<table border=\"1\" class=\"dataframe\">\n",
              "  <thead>\n",
              "    <tr style=\"text-align: right;\">\n",
              "      <th></th>\n",
              "      <th>animal</th>\n",
              "      <th>age</th>\n",
              "      <th>visits</th>\n",
              "      <th>priority</th>\n",
              "    </tr>\n",
              "  </thead>\n",
              "  <tbody>\n",
              "  </tbody>\n",
              "</table>\n",
              "</div>"
            ],
            "text/plain": [
              "Empty DataFrame\n",
              "Columns: [animal, age, visits, priority]\n",
              "Index: []"
            ]
          },
          "metadata": {},
          "execution_count": 10
        }
      ]
    },
    {
      "cell_type": "markdown",
      "metadata": {
        "id": "vFFrsZdoln-S"
      },
      "source": [
        "**10.** Select the rows where the age is missing, i.e. it is `NaN`."
      ]
    },
    {
      "cell_type": "code",
      "metadata": {
        "collapsed": true,
        "colab": {
          "base_uri": "https://localhost:8080/",
          "height": 112
        },
        "id": "SC3JzqLQln-S",
        "outputId": "da969407-234f-46f9-c78b-c677d9dc90a8"
      },
      "source": [
        "df[df['age'].isnull()]"
      ],
      "execution_count": 11,
      "outputs": [
        {
          "output_type": "execute_result",
          "data": {
            "text/html": [
              "<div>\n",
              "<style scoped>\n",
              "    .dataframe tbody tr th:only-of-type {\n",
              "        vertical-align: middle;\n",
              "    }\n",
              "\n",
              "    .dataframe tbody tr th {\n",
              "        vertical-align: top;\n",
              "    }\n",
              "\n",
              "    .dataframe thead th {\n",
              "        text-align: right;\n",
              "    }\n",
              "</style>\n",
              "<table border=\"1\" class=\"dataframe\">\n",
              "  <thead>\n",
              "    <tr style=\"text-align: right;\">\n",
              "      <th></th>\n",
              "      <th>animal</th>\n",
              "      <th>age</th>\n",
              "      <th>visits</th>\n",
              "      <th>priority</th>\n",
              "    </tr>\n",
              "  </thead>\n",
              "  <tbody>\n",
              "    <tr>\n",
              "      <th>d</th>\n",
              "      <td>dog</td>\n",
              "      <td>NaN</td>\n",
              "      <td>3</td>\n",
              "      <td>yes</td>\n",
              "    </tr>\n",
              "    <tr>\n",
              "      <th>h</th>\n",
              "      <td>cat</td>\n",
              "      <td>NaN</td>\n",
              "      <td>1</td>\n",
              "      <td>yes</td>\n",
              "    </tr>\n",
              "  </tbody>\n",
              "</table>\n",
              "</div>"
            ],
            "text/plain": [
              "  animal  age  visits priority\n",
              "d    dog  NaN       3      yes\n",
              "h    cat  NaN       1      yes"
            ]
          },
          "metadata": {},
          "execution_count": 11
        }
      ]
    },
    {
      "cell_type": "markdown",
      "metadata": {
        "id": "p6bOUnuLln-S"
      },
      "source": [
        "**11.** Select the rows where the animal is a cat *and* the age is less than 3."
      ]
    },
    {
      "cell_type": "code",
      "metadata": {
        "collapsed": true,
        "colab": {
          "base_uri": "https://localhost:8080/",
          "height": 112
        },
        "id": "DO-UfpRnln-S",
        "outputId": "ae1c751c-16f0-4c8f-cb41-3034ad05180b"
      },
      "source": [
        "df[(df['animal'] == 'cat') & (df['age'] < 3)]"
      ],
      "execution_count": 12,
      "outputs": [
        {
          "output_type": "execute_result",
          "data": {
            "text/html": [
              "<div>\n",
              "<style scoped>\n",
              "    .dataframe tbody tr th:only-of-type {\n",
              "        vertical-align: middle;\n",
              "    }\n",
              "\n",
              "    .dataframe tbody tr th {\n",
              "        vertical-align: top;\n",
              "    }\n",
              "\n",
              "    .dataframe thead th {\n",
              "        text-align: right;\n",
              "    }\n",
              "</style>\n",
              "<table border=\"1\" class=\"dataframe\">\n",
              "  <thead>\n",
              "    <tr style=\"text-align: right;\">\n",
              "      <th></th>\n",
              "      <th>animal</th>\n",
              "      <th>age</th>\n",
              "      <th>visits</th>\n",
              "      <th>priority</th>\n",
              "    </tr>\n",
              "  </thead>\n",
              "  <tbody>\n",
              "    <tr>\n",
              "      <th>a</th>\n",
              "      <td>cat</td>\n",
              "      <td>2.5</td>\n",
              "      <td>1</td>\n",
              "      <td>yes</td>\n",
              "    </tr>\n",
              "    <tr>\n",
              "      <th>f</th>\n",
              "      <td>cat</td>\n",
              "      <td>2.0</td>\n",
              "      <td>3</td>\n",
              "      <td>no</td>\n",
              "    </tr>\n",
              "  </tbody>\n",
              "</table>\n",
              "</div>"
            ],
            "text/plain": [
              "  animal  age  visits priority\n",
              "a    cat  2.5       1      yes\n",
              "f    cat  2.0       3       no"
            ]
          },
          "metadata": {},
          "execution_count": 12
        }
      ]
    },
    {
      "cell_type": "markdown",
      "metadata": {
        "id": "nhK8cgkNln-S"
      },
      "source": [
        "**12.** Select the rows the age is between 2 and 4 (inclusive)."
      ]
    },
    {
      "cell_type": "code",
      "metadata": {
        "collapsed": true,
        "colab": {
          "base_uri": "https://localhost:8080/",
          "height": 175
        },
        "id": "C9sTBofbln-T",
        "outputId": "c0481698-6118-42f0-c71c-cb1052b01a6f"
      },
      "source": [
        "df[df['age'].between(2,4)]"
      ],
      "execution_count": 13,
      "outputs": [
        {
          "output_type": "execute_result",
          "data": {
            "text/html": [
              "<div>\n",
              "<style scoped>\n",
              "    .dataframe tbody tr th:only-of-type {\n",
              "        vertical-align: middle;\n",
              "    }\n",
              "\n",
              "    .dataframe tbody tr th {\n",
              "        vertical-align: top;\n",
              "    }\n",
              "\n",
              "    .dataframe thead th {\n",
              "        text-align: right;\n",
              "    }\n",
              "</style>\n",
              "<table border=\"1\" class=\"dataframe\">\n",
              "  <thead>\n",
              "    <tr style=\"text-align: right;\">\n",
              "      <th></th>\n",
              "      <th>animal</th>\n",
              "      <th>age</th>\n",
              "      <th>visits</th>\n",
              "      <th>priority</th>\n",
              "    </tr>\n",
              "  </thead>\n",
              "  <tbody>\n",
              "    <tr>\n",
              "      <th>a</th>\n",
              "      <td>cat</td>\n",
              "      <td>2.5</td>\n",
              "      <td>1</td>\n",
              "      <td>yes</td>\n",
              "    </tr>\n",
              "    <tr>\n",
              "      <th>b</th>\n",
              "      <td>cat</td>\n",
              "      <td>3.0</td>\n",
              "      <td>3</td>\n",
              "      <td>yes</td>\n",
              "    </tr>\n",
              "    <tr>\n",
              "      <th>f</th>\n",
              "      <td>cat</td>\n",
              "      <td>2.0</td>\n",
              "      <td>3</td>\n",
              "      <td>no</td>\n",
              "    </tr>\n",
              "    <tr>\n",
              "      <th>j</th>\n",
              "      <td>dog</td>\n",
              "      <td>3.0</td>\n",
              "      <td>1</td>\n",
              "      <td>no</td>\n",
              "    </tr>\n",
              "  </tbody>\n",
              "</table>\n",
              "</div>"
            ],
            "text/plain": [
              "  animal  age  visits priority\n",
              "a    cat  2.5       1      yes\n",
              "b    cat  3.0       3      yes\n",
              "f    cat  2.0       3       no\n",
              "j    dog  3.0       1       no"
            ]
          },
          "metadata": {},
          "execution_count": 13
        }
      ]
    },
    {
      "cell_type": "markdown",
      "metadata": {
        "id": "-l5mmWK8ln-T"
      },
      "source": [
        "**13.** Change the age in row 'f' to 1.5."
      ]
    },
    {
      "cell_type": "code",
      "metadata": {
        "collapsed": true,
        "colab": {
          "base_uri": "https://localhost:8080/",
          "height": 363
        },
        "id": "HJ2dUH-Eln-T",
        "outputId": "e6c32561-a38f-41a9-9d81-ef4a1ba7c7a0"
      },
      "source": [
        "df.loc['f','age']=1.5\n",
        "df"
      ],
      "execution_count": 14,
      "outputs": [
        {
          "output_type": "execute_result",
          "data": {
            "text/html": [
              "<div>\n",
              "<style scoped>\n",
              "    .dataframe tbody tr th:only-of-type {\n",
              "        vertical-align: middle;\n",
              "    }\n",
              "\n",
              "    .dataframe tbody tr th {\n",
              "        vertical-align: top;\n",
              "    }\n",
              "\n",
              "    .dataframe thead th {\n",
              "        text-align: right;\n",
              "    }\n",
              "</style>\n",
              "<table border=\"1\" class=\"dataframe\">\n",
              "  <thead>\n",
              "    <tr style=\"text-align: right;\">\n",
              "      <th></th>\n",
              "      <th>animal</th>\n",
              "      <th>age</th>\n",
              "      <th>visits</th>\n",
              "      <th>priority</th>\n",
              "    </tr>\n",
              "  </thead>\n",
              "  <tbody>\n",
              "    <tr>\n",
              "      <th>a</th>\n",
              "      <td>cat</td>\n",
              "      <td>2.5</td>\n",
              "      <td>1</td>\n",
              "      <td>yes</td>\n",
              "    </tr>\n",
              "    <tr>\n",
              "      <th>b</th>\n",
              "      <td>cat</td>\n",
              "      <td>3.0</td>\n",
              "      <td>3</td>\n",
              "      <td>yes</td>\n",
              "    </tr>\n",
              "    <tr>\n",
              "      <th>c</th>\n",
              "      <td>snake</td>\n",
              "      <td>0.5</td>\n",
              "      <td>2</td>\n",
              "      <td>no</td>\n",
              "    </tr>\n",
              "    <tr>\n",
              "      <th>d</th>\n",
              "      <td>dog</td>\n",
              "      <td>NaN</td>\n",
              "      <td>3</td>\n",
              "      <td>yes</td>\n",
              "    </tr>\n",
              "    <tr>\n",
              "      <th>e</th>\n",
              "      <td>dog</td>\n",
              "      <td>5.0</td>\n",
              "      <td>2</td>\n",
              "      <td>no</td>\n",
              "    </tr>\n",
              "    <tr>\n",
              "      <th>f</th>\n",
              "      <td>cat</td>\n",
              "      <td>1.5</td>\n",
              "      <td>3</td>\n",
              "      <td>no</td>\n",
              "    </tr>\n",
              "    <tr>\n",
              "      <th>g</th>\n",
              "      <td>snake</td>\n",
              "      <td>4.5</td>\n",
              "      <td>1</td>\n",
              "      <td>no</td>\n",
              "    </tr>\n",
              "    <tr>\n",
              "      <th>h</th>\n",
              "      <td>cat</td>\n",
              "      <td>NaN</td>\n",
              "      <td>1</td>\n",
              "      <td>yes</td>\n",
              "    </tr>\n",
              "    <tr>\n",
              "      <th>i</th>\n",
              "      <td>dog</td>\n",
              "      <td>7.0</td>\n",
              "      <td>2</td>\n",
              "      <td>no</td>\n",
              "    </tr>\n",
              "    <tr>\n",
              "      <th>j</th>\n",
              "      <td>dog</td>\n",
              "      <td>3.0</td>\n",
              "      <td>1</td>\n",
              "      <td>no</td>\n",
              "    </tr>\n",
              "  </tbody>\n",
              "</table>\n",
              "</div>"
            ],
            "text/plain": [
              "  animal  age  visits priority\n",
              "a    cat  2.5       1      yes\n",
              "b    cat  3.0       3      yes\n",
              "c  snake  0.5       2       no\n",
              "d    dog  NaN       3      yes\n",
              "e    dog  5.0       2       no\n",
              "f    cat  1.5       3       no\n",
              "g  snake  4.5       1       no\n",
              "h    cat  NaN       1      yes\n",
              "i    dog  7.0       2       no\n",
              "j    dog  3.0       1       no"
            ]
          },
          "metadata": {},
          "execution_count": 14
        }
      ]
    },
    {
      "cell_type": "markdown",
      "metadata": {
        "id": "2RDGGnqeln-T"
      },
      "source": [
        "**14.** Calculate the sum of all visits in `df` (i.e. find the total number of visits)."
      ]
    },
    {
      "cell_type": "code",
      "metadata": {
        "collapsed": true,
        "colab": {
          "base_uri": "https://localhost:8080/"
        },
        "id": "s0MZ-Mtvln-T",
        "outputId": "e3780a74-ba08-439b-ebf2-92b8e40743c7"
      },
      "source": [
        "df['visits'].sum()"
      ],
      "execution_count": 15,
      "outputs": [
        {
          "output_type": "execute_result",
          "data": {
            "text/plain": [
              "19"
            ]
          },
          "metadata": {},
          "execution_count": 15
        }
      ]
    },
    {
      "cell_type": "markdown",
      "metadata": {
        "id": "0VrIj09jln-T"
      },
      "source": [
        "**15.** Calculate the mean age for each different animal in `df`."
      ]
    },
    {
      "cell_type": "code",
      "metadata": {
        "collapsed": true,
        "colab": {
          "base_uri": "https://localhost:8080/"
        },
        "id": "xXbUHUG6ln-T",
        "outputId": "5c942078-6aad-4685-c604-291211e362b4"
      },
      "source": [
        "df['age'].mean()"
      ],
      "execution_count": 16,
      "outputs": [
        {
          "output_type": "execute_result",
          "data": {
            "text/plain": [
              "3.375"
            ]
          },
          "metadata": {},
          "execution_count": 16
        }
      ]
    },
    {
      "cell_type": "markdown",
      "metadata": {
        "id": "bmtpcI_kln-U"
      },
      "source": [
        "**16.** Append a new row 'k' to `df` with your choice of values for each column. Then delete that row to return the original DataFrame."
      ]
    },
    {
      "cell_type": "code",
      "metadata": {
        "collapsed": true,
        "colab": {
          "base_uri": "https://localhost:8080/",
          "height": 363
        },
        "id": "tKHI9vdyln-U",
        "outputId": "2490843f-a681-4d54-b625-4aa7068cceb1"
      },
      "source": [
        "df.loc['k'] = [2, 'cat', 1, 'no']\n",
        "df.drop('k')"
      ],
      "execution_count": 17,
      "outputs": [
        {
          "output_type": "execute_result",
          "data": {
            "text/html": [
              "<div>\n",
              "<style scoped>\n",
              "    .dataframe tbody tr th:only-of-type {\n",
              "        vertical-align: middle;\n",
              "    }\n",
              "\n",
              "    .dataframe tbody tr th {\n",
              "        vertical-align: top;\n",
              "    }\n",
              "\n",
              "    .dataframe thead th {\n",
              "        text-align: right;\n",
              "    }\n",
              "</style>\n",
              "<table border=\"1\" class=\"dataframe\">\n",
              "  <thead>\n",
              "    <tr style=\"text-align: right;\">\n",
              "      <th></th>\n",
              "      <th>animal</th>\n",
              "      <th>age</th>\n",
              "      <th>visits</th>\n",
              "      <th>priority</th>\n",
              "    </tr>\n",
              "  </thead>\n",
              "  <tbody>\n",
              "    <tr>\n",
              "      <th>a</th>\n",
              "      <td>cat</td>\n",
              "      <td>2.5</td>\n",
              "      <td>1</td>\n",
              "      <td>yes</td>\n",
              "    </tr>\n",
              "    <tr>\n",
              "      <th>b</th>\n",
              "      <td>cat</td>\n",
              "      <td>3</td>\n",
              "      <td>3</td>\n",
              "      <td>yes</td>\n",
              "    </tr>\n",
              "    <tr>\n",
              "      <th>c</th>\n",
              "      <td>snake</td>\n",
              "      <td>0.5</td>\n",
              "      <td>2</td>\n",
              "      <td>no</td>\n",
              "    </tr>\n",
              "    <tr>\n",
              "      <th>d</th>\n",
              "      <td>dog</td>\n",
              "      <td>NaN</td>\n",
              "      <td>3</td>\n",
              "      <td>yes</td>\n",
              "    </tr>\n",
              "    <tr>\n",
              "      <th>e</th>\n",
              "      <td>dog</td>\n",
              "      <td>5</td>\n",
              "      <td>2</td>\n",
              "      <td>no</td>\n",
              "    </tr>\n",
              "    <tr>\n",
              "      <th>f</th>\n",
              "      <td>cat</td>\n",
              "      <td>1.5</td>\n",
              "      <td>3</td>\n",
              "      <td>no</td>\n",
              "    </tr>\n",
              "    <tr>\n",
              "      <th>g</th>\n",
              "      <td>snake</td>\n",
              "      <td>4.5</td>\n",
              "      <td>1</td>\n",
              "      <td>no</td>\n",
              "    </tr>\n",
              "    <tr>\n",
              "      <th>h</th>\n",
              "      <td>cat</td>\n",
              "      <td>NaN</td>\n",
              "      <td>1</td>\n",
              "      <td>yes</td>\n",
              "    </tr>\n",
              "    <tr>\n",
              "      <th>i</th>\n",
              "      <td>dog</td>\n",
              "      <td>7</td>\n",
              "      <td>2</td>\n",
              "      <td>no</td>\n",
              "    </tr>\n",
              "    <tr>\n",
              "      <th>j</th>\n",
              "      <td>dog</td>\n",
              "      <td>3</td>\n",
              "      <td>1</td>\n",
              "      <td>no</td>\n",
              "    </tr>\n",
              "  </tbody>\n",
              "</table>\n",
              "</div>"
            ],
            "text/plain": [
              "  animal  age  visits priority\n",
              "a    cat  2.5       1      yes\n",
              "b    cat    3       3      yes\n",
              "c  snake  0.5       2       no\n",
              "d    dog  NaN       3      yes\n",
              "e    dog    5       2       no\n",
              "f    cat  1.5       3       no\n",
              "g  snake  4.5       1       no\n",
              "h    cat  NaN       1      yes\n",
              "i    dog    7       2       no\n",
              "j    dog    3       1       no"
            ]
          },
          "metadata": {},
          "execution_count": 17
        }
      ]
    },
    {
      "cell_type": "markdown",
      "metadata": {
        "id": "zWNsB9mrln-U"
      },
      "source": [
        "**17.** Count the number of each type of animal in `df`."
      ]
    },
    {
      "cell_type": "code",
      "metadata": {
        "collapsed": true,
        "colab": {
          "base_uri": "https://localhost:8080/"
        },
        "id": "iImksMnuln-U",
        "outputId": "8550a6fd-eef2-457c-bda7-9899e7858cdf"
      },
      "source": [
        "df['animal'].value_counts()"
      ],
      "execution_count": 18,
      "outputs": [
        {
          "output_type": "execute_result",
          "data": {
            "text/plain": [
              "dog      4\n",
              "cat      4\n",
              "snake    2\n",
              "2        1\n",
              "Name: animal, dtype: int64"
            ]
          },
          "metadata": {},
          "execution_count": 18
        }
      ]
    },
    {
      "cell_type": "markdown",
      "metadata": {
        "id": "2gma1lFcln-U"
      },
      "source": [
        "**18.** Sort `df` first by the values in the 'age' in *decending* order, then by the value in the 'visits' column in *ascending* order (so row `i` should be first, and row `d` should be last)."
      ]
    },
    {
      "cell_type": "code",
      "metadata": {
        "collapsed": true,
        "colab": {
          "base_uri": "https://localhost:8080/",
          "height": 394
        },
        "id": "AjumhzI9ln-U",
        "outputId": "7d6d2c1d-a061-43e8-f867-5fdc02636ac9"
      },
      "source": [
        "df.sort_values(by=['age','visits'],ascending=[False,True])"
      ],
      "execution_count": 19,
      "outputs": [
        {
          "output_type": "execute_result",
          "data": {
            "text/html": [
              "<div>\n",
              "<style scoped>\n",
              "    .dataframe tbody tr th:only-of-type {\n",
              "        vertical-align: middle;\n",
              "    }\n",
              "\n",
              "    .dataframe tbody tr th {\n",
              "        vertical-align: top;\n",
              "    }\n",
              "\n",
              "    .dataframe thead th {\n",
              "        text-align: right;\n",
              "    }\n",
              "</style>\n",
              "<table border=\"1\" class=\"dataframe\">\n",
              "  <thead>\n",
              "    <tr style=\"text-align: right;\">\n",
              "      <th></th>\n",
              "      <th>animal</th>\n",
              "      <th>age</th>\n",
              "      <th>visits</th>\n",
              "      <th>priority</th>\n",
              "    </tr>\n",
              "  </thead>\n",
              "  <tbody>\n",
              "    <tr>\n",
              "      <th>k</th>\n",
              "      <td>2</td>\n",
              "      <td>cat</td>\n",
              "      <td>1</td>\n",
              "      <td>no</td>\n",
              "    </tr>\n",
              "    <tr>\n",
              "      <th>i</th>\n",
              "      <td>dog</td>\n",
              "      <td>7</td>\n",
              "      <td>2</td>\n",
              "      <td>no</td>\n",
              "    </tr>\n",
              "    <tr>\n",
              "      <th>e</th>\n",
              "      <td>dog</td>\n",
              "      <td>5</td>\n",
              "      <td>2</td>\n",
              "      <td>no</td>\n",
              "    </tr>\n",
              "    <tr>\n",
              "      <th>g</th>\n",
              "      <td>snake</td>\n",
              "      <td>4.5</td>\n",
              "      <td>1</td>\n",
              "      <td>no</td>\n",
              "    </tr>\n",
              "    <tr>\n",
              "      <th>j</th>\n",
              "      <td>dog</td>\n",
              "      <td>3</td>\n",
              "      <td>1</td>\n",
              "      <td>no</td>\n",
              "    </tr>\n",
              "    <tr>\n",
              "      <th>b</th>\n",
              "      <td>cat</td>\n",
              "      <td>3</td>\n",
              "      <td>3</td>\n",
              "      <td>yes</td>\n",
              "    </tr>\n",
              "    <tr>\n",
              "      <th>a</th>\n",
              "      <td>cat</td>\n",
              "      <td>2.5</td>\n",
              "      <td>1</td>\n",
              "      <td>yes</td>\n",
              "    </tr>\n",
              "    <tr>\n",
              "      <th>f</th>\n",
              "      <td>cat</td>\n",
              "      <td>1.5</td>\n",
              "      <td>3</td>\n",
              "      <td>no</td>\n",
              "    </tr>\n",
              "    <tr>\n",
              "      <th>c</th>\n",
              "      <td>snake</td>\n",
              "      <td>0.5</td>\n",
              "      <td>2</td>\n",
              "      <td>no</td>\n",
              "    </tr>\n",
              "    <tr>\n",
              "      <th>h</th>\n",
              "      <td>cat</td>\n",
              "      <td>NaN</td>\n",
              "      <td>1</td>\n",
              "      <td>yes</td>\n",
              "    </tr>\n",
              "    <tr>\n",
              "      <th>d</th>\n",
              "      <td>dog</td>\n",
              "      <td>NaN</td>\n",
              "      <td>3</td>\n",
              "      <td>yes</td>\n",
              "    </tr>\n",
              "  </tbody>\n",
              "</table>\n",
              "</div>"
            ],
            "text/plain": [
              "  animal  age  visits priority\n",
              "k      2  cat       1       no\n",
              "i    dog    7       2       no\n",
              "e    dog    5       2       no\n",
              "g  snake  4.5       1       no\n",
              "j    dog    3       1       no\n",
              "b    cat    3       3      yes\n",
              "a    cat  2.5       1      yes\n",
              "f    cat  1.5       3       no\n",
              "c  snake  0.5       2       no\n",
              "h    cat  NaN       1      yes\n",
              "d    dog  NaN       3      yes"
            ]
          },
          "metadata": {},
          "execution_count": 19
        }
      ]
    },
    {
      "cell_type": "markdown",
      "metadata": {
        "id": "WSEnQeibln-V"
      },
      "source": [
        "**19.** The 'priority' column contains the values 'yes' and 'no'. Replace this column with a column of boolean values: 'yes' should be `True` and 'no' should be `False`."
      ]
    },
    {
      "cell_type": "code",
      "metadata": {
        "collapsed": true,
        "colab": {
          "base_uri": "https://localhost:8080/",
          "height": 394
        },
        "id": "f-m_tnDXln-V",
        "outputId": "e3ac1b07-6bf4-4f06-a5c4-17d85028de14"
      },
      "source": [
        "df['priority'] = df['priority'].map({'yes': 'True', 'no': 'False'})\n",
        "df"
      ],
      "execution_count": 20,
      "outputs": [
        {
          "output_type": "execute_result",
          "data": {
            "text/html": [
              "<div>\n",
              "<style scoped>\n",
              "    .dataframe tbody tr th:only-of-type {\n",
              "        vertical-align: middle;\n",
              "    }\n",
              "\n",
              "    .dataframe tbody tr th {\n",
              "        vertical-align: top;\n",
              "    }\n",
              "\n",
              "    .dataframe thead th {\n",
              "        text-align: right;\n",
              "    }\n",
              "</style>\n",
              "<table border=\"1\" class=\"dataframe\">\n",
              "  <thead>\n",
              "    <tr style=\"text-align: right;\">\n",
              "      <th></th>\n",
              "      <th>animal</th>\n",
              "      <th>age</th>\n",
              "      <th>visits</th>\n",
              "      <th>priority</th>\n",
              "    </tr>\n",
              "  </thead>\n",
              "  <tbody>\n",
              "    <tr>\n",
              "      <th>a</th>\n",
              "      <td>cat</td>\n",
              "      <td>2.5</td>\n",
              "      <td>1</td>\n",
              "      <td>True</td>\n",
              "    </tr>\n",
              "    <tr>\n",
              "      <th>b</th>\n",
              "      <td>cat</td>\n",
              "      <td>3</td>\n",
              "      <td>3</td>\n",
              "      <td>True</td>\n",
              "    </tr>\n",
              "    <tr>\n",
              "      <th>c</th>\n",
              "      <td>snake</td>\n",
              "      <td>0.5</td>\n",
              "      <td>2</td>\n",
              "      <td>False</td>\n",
              "    </tr>\n",
              "    <tr>\n",
              "      <th>d</th>\n",
              "      <td>dog</td>\n",
              "      <td>NaN</td>\n",
              "      <td>3</td>\n",
              "      <td>True</td>\n",
              "    </tr>\n",
              "    <tr>\n",
              "      <th>e</th>\n",
              "      <td>dog</td>\n",
              "      <td>5</td>\n",
              "      <td>2</td>\n",
              "      <td>False</td>\n",
              "    </tr>\n",
              "    <tr>\n",
              "      <th>f</th>\n",
              "      <td>cat</td>\n",
              "      <td>1.5</td>\n",
              "      <td>3</td>\n",
              "      <td>False</td>\n",
              "    </tr>\n",
              "    <tr>\n",
              "      <th>g</th>\n",
              "      <td>snake</td>\n",
              "      <td>4.5</td>\n",
              "      <td>1</td>\n",
              "      <td>False</td>\n",
              "    </tr>\n",
              "    <tr>\n",
              "      <th>h</th>\n",
              "      <td>cat</td>\n",
              "      <td>NaN</td>\n",
              "      <td>1</td>\n",
              "      <td>True</td>\n",
              "    </tr>\n",
              "    <tr>\n",
              "      <th>i</th>\n",
              "      <td>dog</td>\n",
              "      <td>7</td>\n",
              "      <td>2</td>\n",
              "      <td>False</td>\n",
              "    </tr>\n",
              "    <tr>\n",
              "      <th>j</th>\n",
              "      <td>dog</td>\n",
              "      <td>3</td>\n",
              "      <td>1</td>\n",
              "      <td>False</td>\n",
              "    </tr>\n",
              "    <tr>\n",
              "      <th>k</th>\n",
              "      <td>2</td>\n",
              "      <td>cat</td>\n",
              "      <td>1</td>\n",
              "      <td>False</td>\n",
              "    </tr>\n",
              "  </tbody>\n",
              "</table>\n",
              "</div>"
            ],
            "text/plain": [
              "  animal  age  visits priority\n",
              "a    cat  2.5       1     True\n",
              "b    cat    3       3     True\n",
              "c  snake  0.5       2    False\n",
              "d    dog  NaN       3     True\n",
              "e    dog    5       2    False\n",
              "f    cat  1.5       3    False\n",
              "g  snake  4.5       1    False\n",
              "h    cat  NaN       1     True\n",
              "i    dog    7       2    False\n",
              "j    dog    3       1    False\n",
              "k      2  cat       1    False"
            ]
          },
          "metadata": {},
          "execution_count": 20
        }
      ]
    },
    {
      "cell_type": "markdown",
      "metadata": {
        "id": "3U7d--rvln-V"
      },
      "source": [
        "**20.** In the 'animal' column, change the 'snake' entries to 'python'."
      ]
    },
    {
      "cell_type": "code",
      "metadata": {
        "collapsed": true,
        "colab": {
          "base_uri": "https://localhost:8080/",
          "height": 394
        },
        "id": "Uz1P3bWZln-V",
        "outputId": "02f21872-b80c-46c8-c02e-92fe28e6cd68"
      },
      "source": [
        "df['animal']=df['animal'].replace('snake','python')\n",
        "df"
      ],
      "execution_count": 21,
      "outputs": [
        {
          "output_type": "execute_result",
          "data": {
            "text/html": [
              "<div>\n",
              "<style scoped>\n",
              "    .dataframe tbody tr th:only-of-type {\n",
              "        vertical-align: middle;\n",
              "    }\n",
              "\n",
              "    .dataframe tbody tr th {\n",
              "        vertical-align: top;\n",
              "    }\n",
              "\n",
              "    .dataframe thead th {\n",
              "        text-align: right;\n",
              "    }\n",
              "</style>\n",
              "<table border=\"1\" class=\"dataframe\">\n",
              "  <thead>\n",
              "    <tr style=\"text-align: right;\">\n",
              "      <th></th>\n",
              "      <th>animal</th>\n",
              "      <th>age</th>\n",
              "      <th>visits</th>\n",
              "      <th>priority</th>\n",
              "    </tr>\n",
              "  </thead>\n",
              "  <tbody>\n",
              "    <tr>\n",
              "      <th>a</th>\n",
              "      <td>cat</td>\n",
              "      <td>2.5</td>\n",
              "      <td>1</td>\n",
              "      <td>True</td>\n",
              "    </tr>\n",
              "    <tr>\n",
              "      <th>b</th>\n",
              "      <td>cat</td>\n",
              "      <td>3</td>\n",
              "      <td>3</td>\n",
              "      <td>True</td>\n",
              "    </tr>\n",
              "    <tr>\n",
              "      <th>c</th>\n",
              "      <td>python</td>\n",
              "      <td>0.5</td>\n",
              "      <td>2</td>\n",
              "      <td>False</td>\n",
              "    </tr>\n",
              "    <tr>\n",
              "      <th>d</th>\n",
              "      <td>dog</td>\n",
              "      <td>NaN</td>\n",
              "      <td>3</td>\n",
              "      <td>True</td>\n",
              "    </tr>\n",
              "    <tr>\n",
              "      <th>e</th>\n",
              "      <td>dog</td>\n",
              "      <td>5</td>\n",
              "      <td>2</td>\n",
              "      <td>False</td>\n",
              "    </tr>\n",
              "    <tr>\n",
              "      <th>f</th>\n",
              "      <td>cat</td>\n",
              "      <td>1.5</td>\n",
              "      <td>3</td>\n",
              "      <td>False</td>\n",
              "    </tr>\n",
              "    <tr>\n",
              "      <th>g</th>\n",
              "      <td>python</td>\n",
              "      <td>4.5</td>\n",
              "      <td>1</td>\n",
              "      <td>False</td>\n",
              "    </tr>\n",
              "    <tr>\n",
              "      <th>h</th>\n",
              "      <td>cat</td>\n",
              "      <td>NaN</td>\n",
              "      <td>1</td>\n",
              "      <td>True</td>\n",
              "    </tr>\n",
              "    <tr>\n",
              "      <th>i</th>\n",
              "      <td>dog</td>\n",
              "      <td>7</td>\n",
              "      <td>2</td>\n",
              "      <td>False</td>\n",
              "    </tr>\n",
              "    <tr>\n",
              "      <th>j</th>\n",
              "      <td>dog</td>\n",
              "      <td>3</td>\n",
              "      <td>1</td>\n",
              "      <td>False</td>\n",
              "    </tr>\n",
              "    <tr>\n",
              "      <th>k</th>\n",
              "      <td>2</td>\n",
              "      <td>cat</td>\n",
              "      <td>1</td>\n",
              "      <td>False</td>\n",
              "    </tr>\n",
              "  </tbody>\n",
              "</table>\n",
              "</div>"
            ],
            "text/plain": [
              "   animal  age  visits priority\n",
              "a     cat  2.5       1     True\n",
              "b     cat    3       3     True\n",
              "c  python  0.5       2    False\n",
              "d     dog  NaN       3     True\n",
              "e     dog    5       2    False\n",
              "f     cat  1.5       3    False\n",
              "g  python  4.5       1    False\n",
              "h     cat  NaN       1     True\n",
              "i     dog    7       2    False\n",
              "j     dog    3       1    False\n",
              "k       2  cat       1    False"
            ]
          },
          "metadata": {},
          "execution_count": 21
        }
      ]
    },
    {
      "cell_type": "markdown",
      "metadata": {
        "id": "znNiONfiln-W"
      },
      "source": [
        "**21.** For each animal type and each number of visits, find the mean age. In other words, each row is an animal, each column is a number of visits and the values are the mean ages (*hint: use a pivot table*)."
      ]
    },
    {
      "cell_type": "code",
      "metadata": {
        "collapsed": true,
        "id": "S0ehK3w_ln-W"
      },
      "source": [
        ""
      ],
      "execution_count": 21,
      "outputs": []
    },
    {
      "cell_type": "markdown",
      "metadata": {
        "id": "adPicA0Vln-W"
      },
      "source": [
        "## DataFrames: beyond the basics\n",
        "\n",
        "### Slightly trickier: you may need to combine two or more methods to get the right answer\n",
        "\n",
        "Difficulty: *medium*\n",
        "\n",
        "The previous section was tour through some basic but essential DataFrame operations. Below are some ways that you might need to cut your data, but for which there is no single \"out of the box\" method."
      ]
    },
    {
      "cell_type": "markdown",
      "metadata": {
        "id": "aAwEs9_Eln-W"
      },
      "source": [
        "**22.** You have a DataFrame `df` with a column 'A' of integers. For example:\n",
        "```python\n",
        "df = pd.DataFrame({'A': [1, 2, 2, 3, 4, 5, 5, 5, 6, 7, 7]})\n",
        "```\n",
        "\n",
        "How do you filter out rows which contain the same integer as the row immediately above?\n",
        "\n",
        "You should be left with a column containing the following values:\n",
        "\n",
        "```python\n",
        "1, 2, 3, 4, 5, 6, 7\n",
        "```"
      ]
    },
    {
      "cell_type": "code",
      "metadata": {
        "colab": {
          "base_uri": "https://localhost:8080/",
          "height": 269
        },
        "id": "FWESuCxGln-X",
        "outputId": "e4aa25fc-ad49-4de3-c5a9-2855a467ea65"
      },
      "source": [
        "df = pd.DataFrame({'A': [1, 2, 2, 3, 4, 5, 5, 5, 6, 7, 7]})\n",
        "# df.loc[df['A'].shift() != df['A']]\n",
        "# df[df['A'] != df['A'].shift()]\n",
        "df.drop_duplicates(subset='A')"
      ],
      "execution_count": 22,
      "outputs": [
        {
          "output_type": "execute_result",
          "data": {
            "text/html": [
              "<div>\n",
              "<style scoped>\n",
              "    .dataframe tbody tr th:only-of-type {\n",
              "        vertical-align: middle;\n",
              "    }\n",
              "\n",
              "    .dataframe tbody tr th {\n",
              "        vertical-align: top;\n",
              "    }\n",
              "\n",
              "    .dataframe thead th {\n",
              "        text-align: right;\n",
              "    }\n",
              "</style>\n",
              "<table border=\"1\" class=\"dataframe\">\n",
              "  <thead>\n",
              "    <tr style=\"text-align: right;\">\n",
              "      <th></th>\n",
              "      <th>A</th>\n",
              "    </tr>\n",
              "  </thead>\n",
              "  <tbody>\n",
              "    <tr>\n",
              "      <th>0</th>\n",
              "      <td>1</td>\n",
              "    </tr>\n",
              "    <tr>\n",
              "      <th>1</th>\n",
              "      <td>2</td>\n",
              "    </tr>\n",
              "    <tr>\n",
              "      <th>3</th>\n",
              "      <td>3</td>\n",
              "    </tr>\n",
              "    <tr>\n",
              "      <th>4</th>\n",
              "      <td>4</td>\n",
              "    </tr>\n",
              "    <tr>\n",
              "      <th>5</th>\n",
              "      <td>5</td>\n",
              "    </tr>\n",
              "    <tr>\n",
              "      <th>8</th>\n",
              "      <td>6</td>\n",
              "    </tr>\n",
              "    <tr>\n",
              "      <th>9</th>\n",
              "      <td>7</td>\n",
              "    </tr>\n",
              "  </tbody>\n",
              "</table>\n",
              "</div>"
            ],
            "text/plain": [
              "   A\n",
              "0  1\n",
              "1  2\n",
              "3  3\n",
              "4  4\n",
              "5  5\n",
              "8  6\n",
              "9  7"
            ]
          },
          "metadata": {},
          "execution_count": 22
        }
      ]
    },
    {
      "cell_type": "markdown",
      "metadata": {
        "id": "3T8K8_Ovln-X"
      },
      "source": [
        "**23.** Given a DataFrame of numeric values, say\n",
        "```python\n",
        "df = pd.DataFrame(np.random.random(size=(5, 3))) # a 5x3 frame of float values\n",
        "```\n",
        "\n",
        "how do you subtract the row mean from each element in the row?"
      ]
    },
    {
      "cell_type": "code",
      "metadata": {
        "collapsed": true,
        "colab": {
          "base_uri": "https://localhost:8080/",
          "height": 206
        },
        "id": "HdXhxW_Aln-X",
        "outputId": "aadcf6e1-4b91-4390-ff68-2baf3d394acd"
      },
      "source": [
        "df = pd.DataFrame(np.random.random(size=(5, 3)))\n",
        "df.sub(df.mean(axis=1),axis=0)"
      ],
      "execution_count": 23,
      "outputs": [
        {
          "output_type": "execute_result",
          "data": {
            "text/html": [
              "<div>\n",
              "<style scoped>\n",
              "    .dataframe tbody tr th:only-of-type {\n",
              "        vertical-align: middle;\n",
              "    }\n",
              "\n",
              "    .dataframe tbody tr th {\n",
              "        vertical-align: top;\n",
              "    }\n",
              "\n",
              "    .dataframe thead th {\n",
              "        text-align: right;\n",
              "    }\n",
              "</style>\n",
              "<table border=\"1\" class=\"dataframe\">\n",
              "  <thead>\n",
              "    <tr style=\"text-align: right;\">\n",
              "      <th></th>\n",
              "      <th>0</th>\n",
              "      <th>1</th>\n",
              "      <th>2</th>\n",
              "    </tr>\n",
              "  </thead>\n",
              "  <tbody>\n",
              "    <tr>\n",
              "      <th>0</th>\n",
              "      <td>-0.025281</td>\n",
              "      <td>0.331084</td>\n",
              "      <td>-0.305803</td>\n",
              "    </tr>\n",
              "    <tr>\n",
              "      <th>1</th>\n",
              "      <td>-0.129822</td>\n",
              "      <td>0.015152</td>\n",
              "      <td>0.114671</td>\n",
              "    </tr>\n",
              "    <tr>\n",
              "      <th>2</th>\n",
              "      <td>0.462165</td>\n",
              "      <td>-0.126196</td>\n",
              "      <td>-0.335968</td>\n",
              "    </tr>\n",
              "    <tr>\n",
              "      <th>3</th>\n",
              "      <td>-0.106715</td>\n",
              "      <td>-0.247921</td>\n",
              "      <td>0.354636</td>\n",
              "    </tr>\n",
              "    <tr>\n",
              "      <th>4</th>\n",
              "      <td>-0.083495</td>\n",
              "      <td>0.184191</td>\n",
              "      <td>-0.100696</td>\n",
              "    </tr>\n",
              "  </tbody>\n",
              "</table>\n",
              "</div>"
            ],
            "text/plain": [
              "          0         1         2\n",
              "0 -0.025281  0.331084 -0.305803\n",
              "1 -0.129822  0.015152  0.114671\n",
              "2  0.462165 -0.126196 -0.335968\n",
              "3 -0.106715 -0.247921  0.354636\n",
              "4 -0.083495  0.184191 -0.100696"
            ]
          },
          "metadata": {},
          "execution_count": 23
        }
      ]
    },
    {
      "cell_type": "markdown",
      "metadata": {
        "id": "iMmjb3Gpln-X"
      },
      "source": [
        "**24.** Suppose you have DataFrame with 10 columns of real numbers, for example:\n",
        "\n",
        "```python\n",
        "df = pd.DataFrame(np.random.random(size=(5, 10)), columns=list('abcdefghij'))\n",
        "```\n",
        "Which column of numbers has the smallest sum?  Return that column's label."
      ]
    },
    {
      "cell_type": "code",
      "metadata": {
        "collapsed": true,
        "colab": {
          "base_uri": "https://localhost:8080/",
          "height": 35
        },
        "id": "wqkAhd_0ln-X",
        "outputId": "46bf40dc-8370-4748-80c2-3d7d470bd7e6"
      },
      "source": [
        "df = pd.DataFrame(np.random.random(size=(5, 10)), columns=list('abcdefghij'))\n",
        "df.sum().idxmin()\n"
      ],
      "execution_count": 24,
      "outputs": [
        {
          "output_type": "execute_result",
          "data": {
            "application/vnd.google.colaboratory.intrinsic+json": {
              "type": "string"
            },
            "text/plain": [
              "'f'"
            ]
          },
          "metadata": {},
          "execution_count": 24
        }
      ]
    },
    {
      "cell_type": "markdown",
      "metadata": {
        "id": "llK3erH9ln-X"
      },
      "source": [
        "**25.** How do you count how many unique rows a DataFrame has (i.e. ignore all rows that are duplicates)? As input, use a DataFrame of zeros and ones with 10 rows and 3 columns.\n",
        "\n",
        "```python\n",
        "df = pd.DataFrame(np.random.randint(0, 2, size=(10, 3)))\n",
        "```"
      ]
    },
    {
      "cell_type": "code",
      "metadata": {
        "id": "GL7o6LgJ-xjJ",
        "colab": {
          "base_uri": "https://localhost:8080/"
        },
        "outputId": "cd1e68d2-f441-4f3f-9d38-4eea8ba14624"
      },
      "source": [
        "df = pd.DataFrame(np.random.randint(0, 2, size=(10, 3)))\n",
        "\n",
        "len(df) - df.duplicated(keep=False).sum()"
      ],
      "execution_count": 25,
      "outputs": [
        {
          "output_type": "execute_result",
          "data": {
            "text/plain": [
              "3"
            ]
          },
          "metadata": {},
          "execution_count": 25
        }
      ]
    },
    {
      "cell_type": "code",
      "metadata": {
        "collapsed": true,
        "id": "d-xqbcfoln-X"
      },
      "source": [
        ""
      ],
      "execution_count": 25,
      "outputs": []
    },
    {
      "cell_type": "markdown",
      "metadata": {
        "id": "eidLWCjuln-Y"
      },
      "source": [
        "The next three puzzles are slightly harder.\n",
        "\n",
        "\n",
        "**26.** In the cell below, you have a DataFrame `df` that consists of 10 columns of floating-point numbers. Exactly 5 entries in each row are NaN values. \n",
        "\n",
        "For each row of the DataFrame, find the *column* which contains the *third* NaN value.\n",
        "\n",
        "You should return a Series of column labels: `e, c, d, h, d`"
      ]
    },
    {
      "cell_type": "code",
      "metadata": {
        "id": "o9EDS2Qgln-Y",
        "colab": {
          "base_uri": "https://localhost:8080/"
        },
        "outputId": "f06d0ebd-c716-4ce6-8f2a-bb88331dfe01"
      },
      "source": [
        "nan = np.nan\n",
        "\n",
        "data = [[0.04,  nan,  nan, 0.25,  nan, 0.43, 0.71, 0.51,  nan,  nan],\n",
        "        [ nan,  nan,  nan, 0.04, 0.76,  nan,  nan, 0.67, 0.76, 0.16],\n",
        "        [ nan,  nan, 0.5 ,  nan, 0.31, 0.4 ,  nan,  nan, 0.24, 0.01],\n",
        "        [0.49,  nan,  nan, 0.62, 0.73, 0.26, 0.85,  nan,  nan,  nan],\n",
        "        [ nan,  nan, 0.41,  nan, 0.05,  nan, 0.61,  nan, 0.48, 0.68]]\n",
        "\n",
        "columns = list('abcdefghij')\n",
        "\n",
        "df = pd.DataFrame(data, columns=columns)\n",
        "\n",
        "\n",
        "(df.isnull().cumsum(axis=1) == 3).idxmax(axis=1)"
      ],
      "execution_count": 26,
      "outputs": [
        {
          "output_type": "execute_result",
          "data": {
            "text/plain": [
              "0    e\n",
              "1    c\n",
              "2    d\n",
              "3    h\n",
              "4    d\n",
              "dtype: object"
            ]
          },
          "metadata": {},
          "execution_count": 26
        }
      ]
    },
    {
      "cell_type": "markdown",
      "metadata": {
        "id": "qwH4TUGaln-Y"
      },
      "source": [
        "**27.** A DataFrame has a column of groups 'grps' and and column of integer values 'vals': \n",
        "\n",
        "```python\n",
        "df = pd.DataFrame({'grps': list('aaabbcaabcccbbc'), \n",
        "                   'vals': [12,345,3,1,45,14,4,52,54,23,235,21,57,3,87]})\n",
        "```\n",
        "For each *group*, find the sum of the three greatest values. You should end up with the answer as follows:\n",
        "```\n",
        "grps\n",
        "a    409\n",
        "b    156\n",
        "c    345\n",
        "```"
      ]
    },
    {
      "cell_type": "code",
      "metadata": {
        "collapsed": true,
        "id": "6haTO8LPln-Y",
        "colab": {
          "base_uri": "https://localhost:8080/"
        },
        "outputId": "a14f59e1-39a4-4fb8-94ab-7d85f826f7ec"
      },
      "source": [
        "df = pd.DataFrame({'grps': list('aaabbcaabcccbbc'), \n",
        "                   'vals': [12,345,3,1,45,14,4,52,54,23,235,21,57,3,87]})\n",
        "\n",
        "df.groupby('grps')['vals'].nlargest(3).sum(level=0)"
      ],
      "execution_count": 27,
      "outputs": [
        {
          "output_type": "execute_result",
          "data": {
            "text/plain": [
              "grps\n",
              "a    409\n",
              "b    156\n",
              "c    345\n",
              "Name: vals, dtype: int64"
            ]
          },
          "metadata": {},
          "execution_count": 27
        }
      ]
    },
    {
      "cell_type": "markdown",
      "metadata": {
        "id": "qGmDoe4dln-Y"
      },
      "source": [
        "**28.** The DataFrame `df` constructed below has two integer columns 'A' and 'B'. The values in 'A' are between 1 and 100 (inclusive). \n",
        "\n",
        "For each group of 10 consecutive integers in 'A' (i.e. `(0, 10]`, `(10, 20]`, ...), calculate the sum of the corresponding values in column 'B'.\n",
        "\n",
        "The answer should be a Series as follows:\n",
        "\n",
        "```\n",
        "A\n",
        "(0, 10]      635\n",
        "(10, 20]     360\n",
        "(20, 30]     315\n",
        "(30, 40]     306\n",
        "(40, 50]     750\n",
        "(50, 60]     284\n",
        "(60, 70]     424\n",
        "(70, 80]     526\n",
        "(80, 90]     835\n",
        "(90, 100]    852\n",
        "```"
      ]
    },
    {
      "cell_type": "code",
      "metadata": {
        "collapsed": true,
        "id": "8hxmrgKXln-Y",
        "colab": {
          "base_uri": "https://localhost:8080/"
        },
        "outputId": "65c5b038-7ac3-46ff-faf1-4278dc5200d9"
      },
      "source": [
        "df = pd.DataFrame(np.random.RandomState(8765).randint(1, 101, size=(100, 2)), columns = [\"A\", \"B\"])\n",
        "\n",
        "df.groupby(pd.cut(df['A'], np.arange(0, 101, 10)))['B'].sum()"
      ],
      "execution_count": 28,
      "outputs": [
        {
          "output_type": "execute_result",
          "data": {
            "text/plain": [
              "A\n",
              "(0, 10]      635\n",
              "(10, 20]     360\n",
              "(20, 30]     315\n",
              "(30, 40]     306\n",
              "(40, 50]     750\n",
              "(50, 60]     284\n",
              "(60, 70]     424\n",
              "(70, 80]     526\n",
              "(80, 90]     835\n",
              "(90, 100]    852\n",
              "Name: B, dtype: int64"
            ]
          },
          "metadata": {},
          "execution_count": 28
        }
      ]
    },
    {
      "cell_type": "markdown",
      "metadata": {
        "id": "G6YrEYFJln-Z"
      },
      "source": [
        "## DataFrames: harder problems \n",
        "\n",
        "### These might require a bit of thinking outside the box...\n",
        "\n",
        "...but all are solvable using just the usual pandas/NumPy methods (and so avoid using explicit `for` loops).\n",
        "\n",
        "Difficulty: *hard*"
      ]
    },
    {
      "cell_type": "markdown",
      "metadata": {
        "id": "tOZMFiwnln-Z"
      },
      "source": [
        "**29.** Consider a DataFrame `df` where there is an integer column 'X':\n",
        "```python\n",
        "df = pd.DataFrame({'X': [7, 2, 0, 3, 4, 2, 5, 0, 3, 4]})\n",
        "```\n",
        "For each value, count the difference back to the previous zero (or the start of the Series, whichever is closer). These values should therefore be \n",
        "\n",
        "```\n",
        "[1, 2, 0, 1, 2, 3, 4, 0, 1, 2]\n",
        "```\n",
        "\n",
        "Make this a new column 'Y'."
      ]
    },
    {
      "cell_type": "code",
      "metadata": {
        "collapsed": true,
        "id": "AoeNBcODln-Z"
      },
      "source": [
        "df = pd.DataFrame({'X': [7, 2, 0, 3, 4, 2, 5, 0, 3, 4]})\n",
        "\n",
        "izero = np.r_[-1, (df == 0).values.nonzero()[0]]\n",
        "idx = np.arange(len(df))\n",
        "y = df['X'] != 0\n",
        "df['Y'] = idx - izero[np.searchsorted(izero - 1, idx) - 1]"
      ],
      "execution_count": 29,
      "outputs": []
    },
    {
      "cell_type": "markdown",
      "metadata": {
        "id": "bF067m5_ln-Z"
      },
      "source": [
        "**30.** Consider the DataFrame constructed below which contains rows and columns of numerical data. \n",
        "\n",
        "Create a list of the column-row index locations of the 3 largest values in this DataFrame. In this case, the answer should be:\n",
        "```\n",
        "[(5, 7), (6, 4), (2, 5)]\n",
        "```"
      ]
    },
    {
      "cell_type": "code",
      "metadata": {
        "collapsed": true,
        "id": "FN8YTM0Oln-Z",
        "colab": {
          "base_uri": "https://localhost:8080/"
        },
        "outputId": "a8fc1d0b-839b-4581-abce-74b1f064a93b"
      },
      "source": [
        "df = pd.DataFrame(np.random.RandomState(30).randint(1, 101, size=(8, 8)))\n",
        "\n",
        "df.unstack().sort_values()[-3:].index.tolist()\n",
        "\n"
      ],
      "execution_count": 30,
      "outputs": [
        {
          "output_type": "execute_result",
          "data": {
            "text/plain": [
              "[(5, 7), (6, 4), (2, 5)]"
            ]
          },
          "metadata": {},
          "execution_count": 30
        }
      ]
    },
    {
      "cell_type": "markdown",
      "metadata": {
        "id": "fxyywQFXln-a"
      },
      "source": [
        "**31.** You are given the DataFrame below with a column of group IDs, 'grps', and a column of corresponding integer values, 'vals'.\n",
        "\n",
        "```python\n",
        "df = pd.DataFrame({\"vals\": np.random.RandomState(31).randint(-30, 30, size=15), \n",
        "                   \"grps\": np.random.RandomState(31).choice([\"A\", \"B\"], 15)})\n",
        "```\n",
        "\n",
        "Create a new column 'patched_values' which contains the same values as the 'vals' any negative values in 'vals' with the group mean:\n",
        "\n",
        "```\n",
        "    vals grps  patched_vals\n",
        "0    -12    A          13.6\n",
        "1     -7    B          28.0\n",
        "2    -14    A          13.6\n",
        "3      4    A           4.0\n",
        "4     -7    A          13.6\n",
        "5     28    B          28.0\n",
        "6     -2    A          13.6\n",
        "7     -1    A          13.6\n",
        "8      8    A           8.0\n",
        "9     -2    B          28.0\n",
        "10    28    A          28.0\n",
        "11    12    A          12.0\n",
        "12    16    A          16.0\n",
        "13   -24    A          13.6\n",
        "14   -12    A          13.6\n",
        "```"
      ]
    },
    {
      "cell_type": "code",
      "metadata": {
        "collapsed": true,
        "id": "u41lVS2Mln-a",
        "colab": {
          "base_uri": "https://localhost:8080/"
        },
        "outputId": "e37d1a7b-e875-4fe6-c48e-63f9a4ee5a3e"
      },
      "source": [
        "df = pd.DataFrame({\"vals\": np.random.RandomState(31).randint(-30, 30, size=15), \n",
        "                   \"grps\": np.random.RandomState(31).choice([\"A\", \"B\"], 15)})\n",
        "\n",
        "def replace(group):\n",
        "    mask = group<0\n",
        "    group[mask] = group[~mask].mean()\n",
        "    return group\n",
        "\n",
        "df.groupby(['grps'])['vals'].transform(replace)\n"
      ],
      "execution_count": 31,
      "outputs": [
        {
          "output_type": "execute_result",
          "data": {
            "text/plain": [
              "0     13.6\n",
              "1     28.0\n",
              "2     13.6\n",
              "3      4.0\n",
              "4     13.6\n",
              "5     28.0\n",
              "6     13.6\n",
              "7     13.6\n",
              "8      8.0\n",
              "9     28.0\n",
              "10    28.0\n",
              "11    12.0\n",
              "12    16.0\n",
              "13    13.6\n",
              "14    13.6\n",
              "Name: vals, dtype: float64"
            ]
          },
          "metadata": {},
          "execution_count": 31
        }
      ]
    },
    {
      "cell_type": "markdown",
      "metadata": {
        "id": "TYQLkGW4ln-a"
      },
      "source": [
        "**32.** Implement a rolling mean over groups with window size 3, which ignores NaN value. For example consider the following DataFrame:\n",
        "\n",
        "```python\n",
        ">>> df = pd.DataFrame({'group': list('aabbabbbabab'),\n",
        "                       'value': [1, 2, 3, np.nan, 2, 3, np.nan, 1, 7, 3, np.nan, 8]})\n",
        ">>> df\n",
        "   group  value\n",
        "0      a    1.0\n",
        "1      a    2.0\n",
        "2      b    3.0\n",
        "3      b    NaN\n",
        "4      a    2.0\n",
        "5      b    3.0\n",
        "6      b    NaN\n",
        "7      b    1.0\n",
        "8      a    7.0\n",
        "9      b    3.0\n",
        "10     a    NaN\n",
        "11     b    8.0\n",
        "```\n",
        "The goal is to compute the Series:\n",
        "\n",
        "```\n",
        "0     1.000000\n",
        "1     1.500000\n",
        "2     3.000000\n",
        "3     3.000000\n",
        "4     1.666667\n",
        "5     3.000000\n",
        "6     3.000000\n",
        "7     2.000000\n",
        "8     3.666667\n",
        "9     2.000000\n",
        "10    4.500000\n",
        "11    4.000000\n",
        "```\n",
        "E.g. the first window of size three for group 'b' has values 3.0, NaN and 3.0 and occurs at row index 5. Instead of being NaN the value in the new column at this row index should be 3.0 (just the two non-NaN values are used to compute the mean (3+3)/2)"
      ]
    },
    {
      "cell_type": "code",
      "metadata": {
        "collapsed": true,
        "id": "ldk1caH7ln-a",
        "colab": {
          "base_uri": "https://localhost:8080/"
        },
        "outputId": "a52dcd7b-1f83-4e35-af19-3e3341d9e958"
      },
      "source": [
        "df = pd.DataFrame({'group': list('aabbabbbabab'),\n",
        "                   'value': [1, 2, 3, np.nan, 2, 3, np.nan, 1, 7, 3, np.nan, 8]})\n",
        "\n",
        "g1 = df.groupby(['group'])['value']               \n",
        "g2 = df.fillna(0).groupby(['group'])['value']    \n",
        "\n",
        "s = g2.rolling(3, min_periods=1).sum() / g1.rolling(3, min_periods=1).count() \n",
        "\n",
        "s.reset_index(level=0, drop=True).sort_index()  "
      ],
      "execution_count": 32,
      "outputs": [
        {
          "output_type": "execute_result",
          "data": {
            "text/plain": [
              "0     1.000000\n",
              "1     1.500000\n",
              "2     3.000000\n",
              "3     3.000000\n",
              "4     1.666667\n",
              "5     3.000000\n",
              "6     3.000000\n",
              "7     2.000000\n",
              "8     3.666667\n",
              "9     2.000000\n",
              "10    4.500000\n",
              "11    4.000000\n",
              "Name: value, dtype: float64"
            ]
          },
          "metadata": {},
          "execution_count": 32
        }
      ]
    },
    {
      "cell_type": "markdown",
      "metadata": {
        "id": "Y7P2p2VZln-a"
      },
      "source": [
        "## Series and DatetimeIndex\n",
        "\n",
        "### Exercises for creating and manipulating Series with datetime data\n",
        "\n",
        "Difficulty: *easy/medium*\n",
        "\n",
        "pandas is fantastic for working with dates and times. These puzzles explore some of this functionality.\n"
      ]
    },
    {
      "cell_type": "markdown",
      "metadata": {
        "id": "sjccBWM-ln-a"
      },
      "source": [
        "**33.** Create a DatetimeIndex that contains each business day of 2015 and use it to index a Series of random numbers. Let's call this Series `s`."
      ]
    },
    {
      "cell_type": "code",
      "metadata": {
        "collapsed": true,
        "id": "-7neTIoFln-a",
        "colab": {
          "base_uri": "https://localhost:8080/"
        },
        "outputId": "7f210edb-d89b-4c74-e79a-c908b30a0567"
      },
      "source": [
        "dti = pd.date_range(start='2015-01-01', end='2015-12-31', freq='B') \n",
        "s = pd.Series(np.random.rand(len(dti)), index=dti)\n",
        "s"
      ],
      "execution_count": 33,
      "outputs": [
        {
          "output_type": "execute_result",
          "data": {
            "text/plain": [
              "2015-01-01    0.086443\n",
              "2015-01-02    0.052214\n",
              "2015-01-05    0.113992\n",
              "2015-01-06    0.971455\n",
              "2015-01-07    0.622138\n",
              "                ...   \n",
              "2015-12-25    0.148306\n",
              "2015-12-28    0.693408\n",
              "2015-12-29    0.840396\n",
              "2015-12-30    0.212759\n",
              "2015-12-31    0.903021\n",
              "Freq: B, Length: 261, dtype: float64"
            ]
          },
          "metadata": {},
          "execution_count": 33
        }
      ]
    },
    {
      "cell_type": "markdown",
      "metadata": {
        "id": "9JdE5oMhln-a"
      },
      "source": [
        "**34.** Find the sum of the values in `s` for every Wednesday."
      ]
    },
    {
      "cell_type": "code",
      "metadata": {
        "collapsed": true,
        "id": "NNhEVFj4ln-b",
        "colab": {
          "base_uri": "https://localhost:8080/"
        },
        "outputId": "4bbba2e2-ceb8-4fdf-da08-91a6a5a1c65a"
      },
      "source": [
        "s[s.index.weekday == 2].sum()"
      ],
      "execution_count": 34,
      "outputs": [
        {
          "output_type": "execute_result",
          "data": {
            "text/plain": [
              "27.130207809212216"
            ]
          },
          "metadata": {},
          "execution_count": 34
        }
      ]
    },
    {
      "cell_type": "markdown",
      "metadata": {
        "id": "Sbh3nugBln-b"
      },
      "source": [
        "**35.** For each calendar month in `s`, find the mean of values."
      ]
    },
    {
      "cell_type": "code",
      "metadata": {
        "collapsed": true,
        "id": "M0E7FCQZln-b",
        "colab": {
          "base_uri": "https://localhost:8080/"
        },
        "outputId": "4cc44710-b280-4397-c9af-e2a4bdb746f4"
      },
      "source": [
        "s.resample('M').mean()"
      ],
      "execution_count": 35,
      "outputs": [
        {
          "output_type": "execute_result",
          "data": {
            "text/plain": [
              "2015-01-31    0.511592\n",
              "2015-02-28    0.446158\n",
              "2015-03-31    0.477405\n",
              "2015-04-30    0.521326\n",
              "2015-05-31    0.517442\n",
              "2015-06-30    0.592976\n",
              "2015-07-31    0.550001\n",
              "2015-08-31    0.671141\n",
              "2015-09-30    0.520235\n",
              "2015-10-31    0.524049\n",
              "2015-11-30    0.363047\n",
              "2015-12-31    0.506958\n",
              "Freq: M, dtype: float64"
            ]
          },
          "metadata": {},
          "execution_count": 35
        }
      ]
    },
    {
      "cell_type": "markdown",
      "metadata": {
        "id": "RSgZhiYxln-b"
      },
      "source": [
        "**36.** For each group of four consecutive calendar months in `s`, find the date on which the highest value occurred."
      ]
    },
    {
      "cell_type": "code",
      "metadata": {
        "collapsed": true,
        "id": "281wnC4Oln-b",
        "colab": {
          "base_uri": "https://localhost:8080/"
        },
        "outputId": "8e8972ef-2415-4c81-cb2c-54f8c5eae49e"
      },
      "source": [
        "s.groupby(pd.Grouper(freq='4M')).idxmax()"
      ],
      "execution_count": 36,
      "outputs": [
        {
          "output_type": "execute_result",
          "data": {
            "text/plain": [
              "2015-01-31   2015-01-06\n",
              "2015-05-31   2015-03-19\n",
              "2015-09-30   2015-06-03\n",
              "2016-01-31   2015-12-09\n",
              "Freq: 4M, dtype: datetime64[ns]"
            ]
          },
          "metadata": {},
          "execution_count": 36
        }
      ]
    },
    {
      "cell_type": "markdown",
      "metadata": {
        "id": "dE-GTBusln-b"
      },
      "source": [
        "**37.** Create a DateTimeIndex consisting of the third Thursday in each month for the years 2015 and 2016."
      ]
    },
    {
      "cell_type": "code",
      "metadata": {
        "collapsed": true,
        "id": "H1RFenM9ln-b",
        "colab": {
          "base_uri": "https://localhost:8080/"
        },
        "outputId": "ca94dbea-4c9b-478e-962a-d318202237c7"
      },
      "source": [
        "pd.date_range('2015-01-01', '2016-12-31', freq='WOM-3THU')"
      ],
      "execution_count": 37,
      "outputs": [
        {
          "output_type": "execute_result",
          "data": {
            "text/plain": [
              "DatetimeIndex(['2015-01-15', '2015-02-19', '2015-03-19', '2015-04-16',\n",
              "               '2015-05-21', '2015-06-18', '2015-07-16', '2015-08-20',\n",
              "               '2015-09-17', '2015-10-15', '2015-11-19', '2015-12-17',\n",
              "               '2016-01-21', '2016-02-18', '2016-03-17', '2016-04-21',\n",
              "               '2016-05-19', '2016-06-16', '2016-07-21', '2016-08-18',\n",
              "               '2016-09-15', '2016-10-20', '2016-11-17', '2016-12-15'],\n",
              "              dtype='datetime64[ns]', freq='WOM-3THU')"
            ]
          },
          "metadata": {},
          "execution_count": 37
        }
      ]
    },
    {
      "cell_type": "markdown",
      "metadata": {
        "id": "gtvZRy6Iln-b"
      },
      "source": [
        "## Cleaning Data\n",
        "\n",
        "### Making a DataFrame easier to work with\n",
        "\n",
        "Difficulty: *easy/medium*\n",
        "\n",
        "It happens all the time: someone gives you data containing malformed strings, Python, lists and missing data. How do you tidy it up so you can get on with the analysis?\n",
        "\n",
        "Take this monstrosity as the DataFrame to use in the following puzzles:\n",
        "\n",
        "```python\n",
        "df = pd.DataFrame({'From_To': ['LoNDon_paris', 'MAdrid_miLAN', 'londON_StockhOlm', \n",
        "                               'Budapest_PaRis', 'Brussels_londOn'],\n",
        "              'FlightNumber': [10045, np.nan, 10065, np.nan, 10085],\n",
        "              'RecentDelays': [[23, 47], [], [24, 43, 87], [13], [67, 32]],\n",
        "                   'Airline': ['KLM(!)', '<Air France> (12)', '(British Airways. )', \n",
        "                               '12. Air France', '\"Swiss Air\"']})\n",
        "```\n",
        "Formatted, it looks like this:\n",
        "\n",
        "```\n",
        "            From_To  FlightNumber  RecentDelays              Airline\n",
        "0      LoNDon_paris       10045.0      [23, 47]               KLM(!)\n",
        "1      MAdrid_miLAN           NaN            []    <Air France> (12)\n",
        "2  londON_StockhOlm       10065.0  [24, 43, 87]  (British Airways. )\n",
        "3    Budapest_PaRis           NaN          [13]       12. Air France\n",
        "4   Brussels_londOn       10085.0      [67, 32]          \"Swiss Air\"\n",
        "```\n",
        "\n",
        "\n",
        "(It's some flight data I made up; it's not meant to be accurate in any way.)\n"
      ]
    },
    {
      "cell_type": "markdown",
      "metadata": {
        "id": "UC5fBmmSln-c"
      },
      "source": [
        "**38.** Some values in the the **FlightNumber** column are missing (they are `NaN`). These numbers are meant to increase by 10 with each row so 10055 and 10075 need to be put in place. Modify `df` to fill in these missing numbers and make the column an integer column (instead of a float column)."
      ]
    },
    {
      "cell_type": "code",
      "metadata": {
        "collapsed": true,
        "id": "TF339WUtln-c",
        "colab": {
          "base_uri": "https://localhost:8080/",
          "height": 206
        },
        "outputId": "4152895f-1bdd-4ce0-d9f4-696289242ff8"
      },
      "source": [
        "df = pd.DataFrame({'From_To': ['LoNDon_paris', 'MAdrid_miLAN', 'londON_StockhOlm', \n",
        "                               'Budapest_PaRis', 'Brussels_londOn'],\n",
        "              'FlightNumber': [10045, np.nan, 10065, np.nan, 10085],\n",
        "              'RecentDelays': [[23, 47], [], [24, 43, 87], [13], [67, 32]],\n",
        "                   'Airline': ['KLM(!)', '<Air France> (12)', '(British Airways. )', \n",
        "                               '12. Air France', '\"Swiss Air\"']})\n",
        "\n",
        "df['FlightNumber'] = df['FlightNumber'].interpolate().astype(int)\n",
        "df"
      ],
      "execution_count": 38,
      "outputs": [
        {
          "output_type": "execute_result",
          "data": {
            "text/html": [
              "<div>\n",
              "<style scoped>\n",
              "    .dataframe tbody tr th:only-of-type {\n",
              "        vertical-align: middle;\n",
              "    }\n",
              "\n",
              "    .dataframe tbody tr th {\n",
              "        vertical-align: top;\n",
              "    }\n",
              "\n",
              "    .dataframe thead th {\n",
              "        text-align: right;\n",
              "    }\n",
              "</style>\n",
              "<table border=\"1\" class=\"dataframe\">\n",
              "  <thead>\n",
              "    <tr style=\"text-align: right;\">\n",
              "      <th></th>\n",
              "      <th>From_To</th>\n",
              "      <th>FlightNumber</th>\n",
              "      <th>RecentDelays</th>\n",
              "      <th>Airline</th>\n",
              "    </tr>\n",
              "  </thead>\n",
              "  <tbody>\n",
              "    <tr>\n",
              "      <th>0</th>\n",
              "      <td>LoNDon_paris</td>\n",
              "      <td>10045</td>\n",
              "      <td>[23, 47]</td>\n",
              "      <td>KLM(!)</td>\n",
              "    </tr>\n",
              "    <tr>\n",
              "      <th>1</th>\n",
              "      <td>MAdrid_miLAN</td>\n",
              "      <td>10055</td>\n",
              "      <td>[]</td>\n",
              "      <td>&lt;Air France&gt; (12)</td>\n",
              "    </tr>\n",
              "    <tr>\n",
              "      <th>2</th>\n",
              "      <td>londON_StockhOlm</td>\n",
              "      <td>10065</td>\n",
              "      <td>[24, 43, 87]</td>\n",
              "      <td>(British Airways. )</td>\n",
              "    </tr>\n",
              "    <tr>\n",
              "      <th>3</th>\n",
              "      <td>Budapest_PaRis</td>\n",
              "      <td>10075</td>\n",
              "      <td>[13]</td>\n",
              "      <td>12. Air France</td>\n",
              "    </tr>\n",
              "    <tr>\n",
              "      <th>4</th>\n",
              "      <td>Brussels_londOn</td>\n",
              "      <td>10085</td>\n",
              "      <td>[67, 32]</td>\n",
              "      <td>\"Swiss Air\"</td>\n",
              "    </tr>\n",
              "  </tbody>\n",
              "</table>\n",
              "</div>"
            ],
            "text/plain": [
              "            From_To  FlightNumber  RecentDelays              Airline\n",
              "0      LoNDon_paris         10045      [23, 47]               KLM(!)\n",
              "1      MAdrid_miLAN         10055            []    <Air France> (12)\n",
              "2  londON_StockhOlm         10065  [24, 43, 87]  (British Airways. )\n",
              "3    Budapest_PaRis         10075          [13]       12. Air France\n",
              "4   Brussels_londOn         10085      [67, 32]          \"Swiss Air\""
            ]
          },
          "metadata": {},
          "execution_count": 38
        }
      ]
    },
    {
      "cell_type": "markdown",
      "metadata": {
        "id": "es_-Rnvaln-c"
      },
      "source": [
        "**39.** The **From\\_To** column would be better as two separate columns! Split each string on the underscore delimiter `_` to give a new temporary DataFrame called 'temp' with the correct values. Assign the correct column names 'From' and 'To' to this temporary DataFrame. "
      ]
    },
    {
      "cell_type": "code",
      "metadata": {
        "collapsed": true,
        "id": "Kp_nKx1Pln-c",
        "colab": {
          "base_uri": "https://localhost:8080/",
          "height": 206
        },
        "outputId": "991e0e36-5f9d-4989-af58-e306bc2ae06f"
      },
      "source": [
        "temp = df.From_To.str.split('_', expand=True)\n",
        "temp.columns = ['From', 'To']\n",
        "temp\n"
      ],
      "execution_count": 39,
      "outputs": [
        {
          "output_type": "execute_result",
          "data": {
            "text/html": [
              "<div>\n",
              "<style scoped>\n",
              "    .dataframe tbody tr th:only-of-type {\n",
              "        vertical-align: middle;\n",
              "    }\n",
              "\n",
              "    .dataframe tbody tr th {\n",
              "        vertical-align: top;\n",
              "    }\n",
              "\n",
              "    .dataframe thead th {\n",
              "        text-align: right;\n",
              "    }\n",
              "</style>\n",
              "<table border=\"1\" class=\"dataframe\">\n",
              "  <thead>\n",
              "    <tr style=\"text-align: right;\">\n",
              "      <th></th>\n",
              "      <th>From</th>\n",
              "      <th>To</th>\n",
              "    </tr>\n",
              "  </thead>\n",
              "  <tbody>\n",
              "    <tr>\n",
              "      <th>0</th>\n",
              "      <td>LoNDon</td>\n",
              "      <td>paris</td>\n",
              "    </tr>\n",
              "    <tr>\n",
              "      <th>1</th>\n",
              "      <td>MAdrid</td>\n",
              "      <td>miLAN</td>\n",
              "    </tr>\n",
              "    <tr>\n",
              "      <th>2</th>\n",
              "      <td>londON</td>\n",
              "      <td>StockhOlm</td>\n",
              "    </tr>\n",
              "    <tr>\n",
              "      <th>3</th>\n",
              "      <td>Budapest</td>\n",
              "      <td>PaRis</td>\n",
              "    </tr>\n",
              "    <tr>\n",
              "      <th>4</th>\n",
              "      <td>Brussels</td>\n",
              "      <td>londOn</td>\n",
              "    </tr>\n",
              "  </tbody>\n",
              "</table>\n",
              "</div>"
            ],
            "text/plain": [
              "       From         To\n",
              "0    LoNDon      paris\n",
              "1    MAdrid      miLAN\n",
              "2    londON  StockhOlm\n",
              "3  Budapest      PaRis\n",
              "4  Brussels     londOn"
            ]
          },
          "metadata": {},
          "execution_count": 39
        }
      ]
    },
    {
      "cell_type": "markdown",
      "metadata": {
        "id": "tAyBMqvHln-c"
      },
      "source": [
        "**40.** Notice how the capitalisation of the city names is all mixed up in this temporary DataFrame 'temp'. Standardise the strings so that only the first letter is uppercase (e.g. \"londON\" should become \"London\".)"
      ]
    },
    {
      "cell_type": "code",
      "metadata": {
        "collapsed": true,
        "id": "K4ptImwDln-c",
        "colab": {
          "base_uri": "https://localhost:8080/",
          "height": 206
        },
        "outputId": "bab37169-1297-41d2-8f9b-42358373e9f7"
      },
      "source": [
        "temp['From'] = temp['From'].str.capitalize()\n",
        "temp['To'] = temp['To'].str.capitalize()\n",
        "temp"
      ],
      "execution_count": 40,
      "outputs": [
        {
          "output_type": "execute_result",
          "data": {
            "text/html": [
              "<div>\n",
              "<style scoped>\n",
              "    .dataframe tbody tr th:only-of-type {\n",
              "        vertical-align: middle;\n",
              "    }\n",
              "\n",
              "    .dataframe tbody tr th {\n",
              "        vertical-align: top;\n",
              "    }\n",
              "\n",
              "    .dataframe thead th {\n",
              "        text-align: right;\n",
              "    }\n",
              "</style>\n",
              "<table border=\"1\" class=\"dataframe\">\n",
              "  <thead>\n",
              "    <tr style=\"text-align: right;\">\n",
              "      <th></th>\n",
              "      <th>From</th>\n",
              "      <th>To</th>\n",
              "    </tr>\n",
              "  </thead>\n",
              "  <tbody>\n",
              "    <tr>\n",
              "      <th>0</th>\n",
              "      <td>London</td>\n",
              "      <td>Paris</td>\n",
              "    </tr>\n",
              "    <tr>\n",
              "      <th>1</th>\n",
              "      <td>Madrid</td>\n",
              "      <td>Milan</td>\n",
              "    </tr>\n",
              "    <tr>\n",
              "      <th>2</th>\n",
              "      <td>London</td>\n",
              "      <td>Stockholm</td>\n",
              "    </tr>\n",
              "    <tr>\n",
              "      <th>3</th>\n",
              "      <td>Budapest</td>\n",
              "      <td>Paris</td>\n",
              "    </tr>\n",
              "    <tr>\n",
              "      <th>4</th>\n",
              "      <td>Brussels</td>\n",
              "      <td>London</td>\n",
              "    </tr>\n",
              "  </tbody>\n",
              "</table>\n",
              "</div>"
            ],
            "text/plain": [
              "       From         To\n",
              "0    London      Paris\n",
              "1    Madrid      Milan\n",
              "2    London  Stockholm\n",
              "3  Budapest      Paris\n",
              "4  Brussels     London"
            ]
          },
          "metadata": {},
          "execution_count": 40
        }
      ]
    },
    {
      "cell_type": "markdown",
      "metadata": {
        "id": "yHgucRipln-c"
      },
      "source": [
        "**41.** Delete the **From_To** column from `df` and attach the temporary DataFrame 'temp' from the previous questions."
      ]
    },
    {
      "cell_type": "code",
      "metadata": {
        "collapsed": true,
        "id": "SsjPwSclln-c",
        "colab": {
          "base_uri": "https://localhost:8080/",
          "height": 206
        },
        "outputId": "b13fb397-1471-4873-ca47-a9661ac5e69e"
      },
      "source": [
        "df = df.drop('From_To', axis=1)\n",
        "df = df.join(temp)\n",
        "df"
      ],
      "execution_count": 41,
      "outputs": [
        {
          "output_type": "execute_result",
          "data": {
            "text/html": [
              "<div>\n",
              "<style scoped>\n",
              "    .dataframe tbody tr th:only-of-type {\n",
              "        vertical-align: middle;\n",
              "    }\n",
              "\n",
              "    .dataframe tbody tr th {\n",
              "        vertical-align: top;\n",
              "    }\n",
              "\n",
              "    .dataframe thead th {\n",
              "        text-align: right;\n",
              "    }\n",
              "</style>\n",
              "<table border=\"1\" class=\"dataframe\">\n",
              "  <thead>\n",
              "    <tr style=\"text-align: right;\">\n",
              "      <th></th>\n",
              "      <th>FlightNumber</th>\n",
              "      <th>RecentDelays</th>\n",
              "      <th>Airline</th>\n",
              "      <th>From</th>\n",
              "      <th>To</th>\n",
              "    </tr>\n",
              "  </thead>\n",
              "  <tbody>\n",
              "    <tr>\n",
              "      <th>0</th>\n",
              "      <td>10045</td>\n",
              "      <td>[23, 47]</td>\n",
              "      <td>KLM(!)</td>\n",
              "      <td>London</td>\n",
              "      <td>Paris</td>\n",
              "    </tr>\n",
              "    <tr>\n",
              "      <th>1</th>\n",
              "      <td>10055</td>\n",
              "      <td>[]</td>\n",
              "      <td>&lt;Air France&gt; (12)</td>\n",
              "      <td>Madrid</td>\n",
              "      <td>Milan</td>\n",
              "    </tr>\n",
              "    <tr>\n",
              "      <th>2</th>\n",
              "      <td>10065</td>\n",
              "      <td>[24, 43, 87]</td>\n",
              "      <td>(British Airways. )</td>\n",
              "      <td>London</td>\n",
              "      <td>Stockholm</td>\n",
              "    </tr>\n",
              "    <tr>\n",
              "      <th>3</th>\n",
              "      <td>10075</td>\n",
              "      <td>[13]</td>\n",
              "      <td>12. Air France</td>\n",
              "      <td>Budapest</td>\n",
              "      <td>Paris</td>\n",
              "    </tr>\n",
              "    <tr>\n",
              "      <th>4</th>\n",
              "      <td>10085</td>\n",
              "      <td>[67, 32]</td>\n",
              "      <td>\"Swiss Air\"</td>\n",
              "      <td>Brussels</td>\n",
              "      <td>London</td>\n",
              "    </tr>\n",
              "  </tbody>\n",
              "</table>\n",
              "</div>"
            ],
            "text/plain": [
              "   FlightNumber  RecentDelays              Airline      From         To\n",
              "0         10045      [23, 47]               KLM(!)    London      Paris\n",
              "1         10055            []    <Air France> (12)    Madrid      Milan\n",
              "2         10065  [24, 43, 87]  (British Airways. )    London  Stockholm\n",
              "3         10075          [13]       12. Air France  Budapest      Paris\n",
              "4         10085      [67, 32]          \"Swiss Air\"  Brussels     London"
            ]
          },
          "metadata": {},
          "execution_count": 41
        }
      ]
    },
    {
      "cell_type": "markdown",
      "metadata": {
        "id": "_sv3GEVXln-c"
      },
      "source": [
        "**42**. In the **Airline** column, you can see some extra puctuation and symbols have appeared around the airline names. Pull out just the airline name. E.g. `'(British Airways. )'` should become `'British Airways'`."
      ]
    },
    {
      "cell_type": "code",
      "metadata": {
        "collapsed": true,
        "id": "LznrVZfJln-h"
      },
      "source": [
        "df['Airline'] = df['Airline'].str.extract('([a-zA-Z\\s]+)', expand=False).str.strip()"
      ],
      "execution_count": 42,
      "outputs": []
    },
    {
      "cell_type": "markdown",
      "metadata": {
        "id": "YGYTJCgHln-h"
      },
      "source": [
        "**43**. In the RecentDelays column, the values have been entered into the DataFrame as a list. We would like each first value in its own column, each second value in its own column, and so on. If there isn't an Nth value, the value should be NaN.\n",
        "\n",
        "Expand the Series of lists into a DataFrame named `delays`, rename the columns `delay_1`, `delay_2`, etc. and replace the unwanted RecentDelays column in `df` with `delays`."
      ]
    },
    {
      "cell_type": "code",
      "metadata": {
        "collapsed": true,
        "id": "ubvXiPftln-i",
        "colab": {
          "base_uri": "https://localhost:8080/",
          "height": 206
        },
        "outputId": "d38be0e6-7241-4733-8611-37fd77292bdc"
      },
      "source": [
        "delays = df['RecentDelays'].apply(pd.Series)\n",
        "\n",
        "delays.columns = ['delay_{}'.format(n) for n in range(1, len(delays.columns)+1)]\n",
        "\n",
        "df = df.drop('RecentDelays', axis=1).join(delays)\n",
        "\n",
        "df"
      ],
      "execution_count": 43,
      "outputs": [
        {
          "output_type": "execute_result",
          "data": {
            "text/html": [
              "<div>\n",
              "<style scoped>\n",
              "    .dataframe tbody tr th:only-of-type {\n",
              "        vertical-align: middle;\n",
              "    }\n",
              "\n",
              "    .dataframe tbody tr th {\n",
              "        vertical-align: top;\n",
              "    }\n",
              "\n",
              "    .dataframe thead th {\n",
              "        text-align: right;\n",
              "    }\n",
              "</style>\n",
              "<table border=\"1\" class=\"dataframe\">\n",
              "  <thead>\n",
              "    <tr style=\"text-align: right;\">\n",
              "      <th></th>\n",
              "      <th>FlightNumber</th>\n",
              "      <th>Airline</th>\n",
              "      <th>From</th>\n",
              "      <th>To</th>\n",
              "      <th>delay_1</th>\n",
              "      <th>delay_2</th>\n",
              "      <th>delay_3</th>\n",
              "    </tr>\n",
              "  </thead>\n",
              "  <tbody>\n",
              "    <tr>\n",
              "      <th>0</th>\n",
              "      <td>10045</td>\n",
              "      <td>KLM</td>\n",
              "      <td>London</td>\n",
              "      <td>Paris</td>\n",
              "      <td>23.0</td>\n",
              "      <td>47.0</td>\n",
              "      <td>NaN</td>\n",
              "    </tr>\n",
              "    <tr>\n",
              "      <th>1</th>\n",
              "      <td>10055</td>\n",
              "      <td>Air France</td>\n",
              "      <td>Madrid</td>\n",
              "      <td>Milan</td>\n",
              "      <td>NaN</td>\n",
              "      <td>NaN</td>\n",
              "      <td>NaN</td>\n",
              "    </tr>\n",
              "    <tr>\n",
              "      <th>2</th>\n",
              "      <td>10065</td>\n",
              "      <td>British Airways</td>\n",
              "      <td>London</td>\n",
              "      <td>Stockholm</td>\n",
              "      <td>24.0</td>\n",
              "      <td>43.0</td>\n",
              "      <td>87.0</td>\n",
              "    </tr>\n",
              "    <tr>\n",
              "      <th>3</th>\n",
              "      <td>10075</td>\n",
              "      <td>Air France</td>\n",
              "      <td>Budapest</td>\n",
              "      <td>Paris</td>\n",
              "      <td>13.0</td>\n",
              "      <td>NaN</td>\n",
              "      <td>NaN</td>\n",
              "    </tr>\n",
              "    <tr>\n",
              "      <th>4</th>\n",
              "      <td>10085</td>\n",
              "      <td>Swiss Air</td>\n",
              "      <td>Brussels</td>\n",
              "      <td>London</td>\n",
              "      <td>67.0</td>\n",
              "      <td>32.0</td>\n",
              "      <td>NaN</td>\n",
              "    </tr>\n",
              "  </tbody>\n",
              "</table>\n",
              "</div>"
            ],
            "text/plain": [
              "   FlightNumber          Airline      From  ... delay_1  delay_2  delay_3\n",
              "0         10045              KLM    London  ...    23.0     47.0      NaN\n",
              "1         10055       Air France    Madrid  ...     NaN      NaN      NaN\n",
              "2         10065  British Airways    London  ...    24.0     43.0     87.0\n",
              "3         10075       Air France  Budapest  ...    13.0      NaN      NaN\n",
              "4         10085        Swiss Air  Brussels  ...    67.0     32.0      NaN\n",
              "\n",
              "[5 rows x 7 columns]"
            ]
          },
          "metadata": {},
          "execution_count": 43
        }
      ]
    },
    {
      "cell_type": "markdown",
      "metadata": {
        "id": "75-gkSWqln-i"
      },
      "source": [
        "The DataFrame should look much better now.\n",
        "```\n",
        "   FlightNumber          Airline      From         To  delay_1  delay_2  delay_3\n",
        "0         10045              KLM    London      Paris     23.0     47.0      NaN\n",
        "1         10055       Air France    Madrid      Milan      NaN      NaN      NaN\n",
        "2         10065  British Airways    London  Stockholm     24.0     43.0     87.0\n",
        "3         10075       Air France  Budapest      Paris     13.0      NaN      NaN\n",
        "4         10085        Swiss Air  Brussels     London     67.0     32.0      NaN\n",
        "```"
      ]
    },
    {
      "cell_type": "markdown",
      "metadata": {
        "collapsed": true,
        "id": "e0uoX5xOln-i"
      },
      "source": [
        "## Using MultiIndexes\n",
        "\n",
        "### Go beyond flat DataFrames with additional index levels\n",
        "\n",
        "Difficulty: *medium*\n",
        "\n",
        "Previous exercises have seen us analysing data from DataFrames equipped with a single index level. However, pandas also gives you the possibilty of indexing your data using *multiple* levels. This is very much like adding new dimensions to a Series or a DataFrame. For example, a Series is 1D, but by using a MultiIndex with 2 levels we gain of much the same functionality as a 2D DataFrame.\n",
        "\n",
        "The set of puzzles below explores how you might use multiple index levels to enhance data analysis.\n",
        "\n",
        "To warm up, we'll look make a Series with two index levels. "
      ]
    },
    {
      "cell_type": "markdown",
      "metadata": {
        "id": "md4iIgIBln-j"
      },
      "source": [
        "**44**. Given the lists `letters = ['A', 'B', 'C']` and `numbers = list(range(10))`, construct a MultiIndex object from the product of the two lists. Use it to index a Series of random numbers. Call this Series `s`."
      ]
    },
    {
      "cell_type": "code",
      "metadata": {
        "collapsed": true,
        "id": "iMznC1m8ln-j"
      },
      "source": [
        ""
      ],
      "execution_count": 43,
      "outputs": []
    },
    {
      "cell_type": "markdown",
      "metadata": {
        "id": "tAFFZKQUln-j"
      },
      "source": [
        "**45.** Check the index of `s` is lexicographically sorted (this is a necessary proprty for indexing to work correctly with a MultiIndex)."
      ]
    },
    {
      "cell_type": "code",
      "metadata": {
        "collapsed": true,
        "id": "aE9etTKkln-j"
      },
      "source": [
        ""
      ],
      "execution_count": 43,
      "outputs": []
    },
    {
      "cell_type": "markdown",
      "metadata": {
        "id": "q98rUAYGln-k"
      },
      "source": [
        "**46**. Select the labels `1`, `3` and `6` from the second level of the MultiIndexed Series."
      ]
    },
    {
      "cell_type": "code",
      "metadata": {
        "collapsed": true,
        "id": "x9bYyStgln-k"
      },
      "source": [
        ""
      ],
      "execution_count": 43,
      "outputs": []
    },
    {
      "cell_type": "markdown",
      "metadata": {
        "id": "iRe88ZUTln-k"
      },
      "source": [
        "**47**. Slice the Series `s`; slice up to label 'B' for the first level and from label 5 onwards for the second level."
      ]
    },
    {
      "cell_type": "code",
      "metadata": {
        "collapsed": true,
        "id": "GJts-RQPln-k"
      },
      "source": [
        ""
      ],
      "execution_count": 43,
      "outputs": []
    },
    {
      "cell_type": "markdown",
      "metadata": {
        "id": "NsyRrWNSln-l"
      },
      "source": [
        "**48**. Sum the values in `s` for each label in the first level (you should have Series giving you a total for labels A, B and C)."
      ]
    },
    {
      "cell_type": "code",
      "metadata": {
        "collapsed": true,
        "id": "CFysaLGuln-l"
      },
      "source": [
        ""
      ],
      "execution_count": 43,
      "outputs": []
    },
    {
      "cell_type": "markdown",
      "metadata": {
        "id": "7tFGgMlzln-l"
      },
      "source": [
        "**49**. Suppose that `sum()` (and other methods) did not accept a `level` keyword argument. How else could you perform the equivalent of `s.sum(level=1)`?"
      ]
    },
    {
      "cell_type": "code",
      "metadata": {
        "collapsed": true,
        "id": "U5c3n9U5ln-m"
      },
      "source": [
        ""
      ],
      "execution_count": 43,
      "outputs": []
    },
    {
      "cell_type": "markdown",
      "metadata": {
        "id": "852Luhftln-m"
      },
      "source": [
        "**50**. Exchange the levels of the MultiIndex so we have an index of the form (letters, numbers). Is this new Series properly lexsorted? If not, sort it."
      ]
    },
    {
      "cell_type": "code",
      "metadata": {
        "id": "3UdTl1XNln-m"
      },
      "source": [
        ""
      ],
      "execution_count": 43,
      "outputs": []
    },
    {
      "cell_type": "markdown",
      "metadata": {
        "id": "KUrMZbDvln-n"
      },
      "source": [
        "## Minesweeper\n",
        "\n",
        "### Generate the numbers for safe squares in a Minesweeper grid\n",
        "\n",
        "Difficulty: *medium* to *hard*\n",
        "\n",
        "If you've ever used an older version of Windows, there's a good chance you've played with Minesweeper:\n",
        "- https://en.wikipedia.org/wiki/Minesweeper_(video_game)\n",
        "\n",
        "\n",
        "If you're not familiar with the game, imagine a grid of squares: some of these squares conceal a mine. If you click on a mine, you lose instantly. If you click on a safe square, you reveal a number telling you how many mines are found in the squares that are immediately adjacent. The aim of the game is to uncover all squares in the grid that do not contain a mine.\n",
        "\n",
        "In this section, we'll make a DataFrame that contains the necessary data for a game of Minesweeper: coordinates of the squares, whether the square contains a mine and the number of mines found on adjacent squares."
      ]
    },
    {
      "cell_type": "markdown",
      "metadata": {
        "id": "abcxeIgqln-n"
      },
      "source": [
        "**51**. Let's suppose we're playing Minesweeper on a 5 by 4 grid, i.e.\n",
        "```\n",
        "X = 5\n",
        "Y = 4\n",
        "```\n",
        "To begin, generate a DataFrame `df` with two columns, `'x'` and `'y'` containing every coordinate for this grid. That is, the DataFrame should start:\n",
        "```\n",
        "   x  y\n",
        "0  0  0\n",
        "1  0  1\n",
        "2  0  2\n",
        "```"
      ]
    },
    {
      "cell_type": "code",
      "metadata": {
        "collapsed": true,
        "id": "mHWYnKtiln-n"
      },
      "source": [
        ""
      ],
      "execution_count": 43,
      "outputs": []
    },
    {
      "cell_type": "markdown",
      "metadata": {
        "id": "V1fK1b7Lln-n"
      },
      "source": [
        "**52**. For this DataFrame `df`, create a new column of zeros (safe) and ones (mine). The probability of a mine occuring at each location should be 0.4."
      ]
    },
    {
      "cell_type": "code",
      "metadata": {
        "collapsed": true,
        "id": "mzzp0Mwvln-o"
      },
      "source": [
        ""
      ],
      "execution_count": 43,
      "outputs": []
    },
    {
      "cell_type": "markdown",
      "metadata": {
        "id": "2QGM3L_Zln-o"
      },
      "source": [
        "**53**. Now create a new column for this DataFrame called `'adjacent'`. This column should contain the number of mines found on adjacent squares in the grid. \n",
        "\n",
        "(E.g. for the first row, which is the entry for the coordinate `(0, 0)`, count how many mines are found on the coordinates `(0, 1)`, `(1, 0)` and `(1, 1)`.)"
      ]
    },
    {
      "cell_type": "code",
      "metadata": {
        "collapsed": true,
        "id": "eS2zE5pGln-p"
      },
      "source": [
        ""
      ],
      "execution_count": 43,
      "outputs": []
    },
    {
      "cell_type": "markdown",
      "metadata": {
        "id": "I2kWmnoSln-p"
      },
      "source": [
        "**54**. For rows of the DataFrame that contain a mine, set the value in the `'adjacent'` column to NaN."
      ]
    },
    {
      "cell_type": "code",
      "metadata": {
        "collapsed": true,
        "id": "Pd13IUcxln-p"
      },
      "source": [
        ""
      ],
      "execution_count": 43,
      "outputs": []
    },
    {
      "cell_type": "markdown",
      "metadata": {
        "id": "bhkJHPTsln-q"
      },
      "source": [
        "**55**. Finally, convert the DataFrame to grid of the adjacent mine counts: columns are the `x` coordinate, rows are the `y` coordinate."
      ]
    },
    {
      "cell_type": "code",
      "metadata": {
        "collapsed": true,
        "id": "OB_HY1Fxln-q"
      },
      "source": [
        ""
      ],
      "execution_count": 43,
      "outputs": []
    },
    {
      "cell_type": "markdown",
      "metadata": {
        "id": "9V92xztFln-q"
      },
      "source": [
        "## Plotting\n",
        "\n",
        "### Visualize trends and patterns in data\n",
        "\n",
        "Difficulty: *medium*\n",
        "\n",
        "To really get a good understanding of the data contained in your DataFrame, it is often essential to create plots: if you're lucky, trends and anomalies will jump right out at you. This functionality is baked into pandas and the puzzles below explore some of what's possible with the library.\n",
        "\n",
        "**56.** Pandas is highly integrated with the plotting library matplotlib, and makes plotting DataFrames very user-friendly! Plotting in a notebook environment usually makes use of the following boilerplate:\n",
        "\n",
        "```python\n",
        "import matplotlib.pyplot as plt\n",
        "%matplotlib inline\n",
        "plt.style.use('ggplot')\n",
        "```\n",
        "\n",
        "matplotlib is the plotting library which pandas' plotting functionality is built upon, and it is usually aliased to ```plt```.\n",
        "\n",
        "```%matplotlib inline``` tells the notebook to show plots inline, instead of creating them in a separate window.  \n",
        "\n",
        "```plt.style.use('ggplot')``` is a style theme that most people find agreeable, based upon the styling of R's ggplot package.\n",
        "\n",
        "For starters, make a scatter plot of this random data, but use black X's instead of the default markers. \n",
        "\n",
        "```df = pd.DataFrame({\"xs\":[1,5,2,8,1], \"ys\":[4,2,1,9,6]})```\n",
        "\n",
        "Consult the [documentation](https://pandas.pydata.org/pandas-docs/stable/generated/pandas.DataFrame.plot.html) if you get stuck!"
      ]
    },
    {
      "cell_type": "code",
      "metadata": {
        "collapsed": true,
        "id": "q5xCPRANln-r"
      },
      "source": [
        ""
      ],
      "execution_count": 43,
      "outputs": []
    },
    {
      "cell_type": "markdown",
      "metadata": {
        "id": "nFsN5rPeln-r"
      },
      "source": [
        "**57.** Columns in your DataFrame can also be used to modify colors and sizes.  Bill has been keeping track of his performance at work over time, as well as how good he was feeling that day, and whether he had a cup of coffee in the morning.  Make a plot which incorporates all four features of this DataFrame.\n",
        "\n",
        "(Hint:  If you're having trouble seeing the plot, try multiplying the Series which you choose to represent size by 10 or more)\n",
        "\n",
        "*The chart doesn't have to be pretty: this isn't a course in data viz!*\n",
        "\n",
        "```\n",
        "df = pd.DataFrame({\"productivity\":[5,2,3,1,4,5,6,7,8,3,4,8,9],\n",
        "                   \"hours_in\"    :[1,9,6,5,3,9,2,9,1,7,4,2,2],\n",
        "                   \"happiness\"   :[2,1,3,2,3,1,2,3,1,2,2,1,3],\n",
        "                   \"caffienated\" :[0,0,1,1,0,0,0,0,1,1,0,1,0]})\n",
        "```"
      ]
    },
    {
      "cell_type": "code",
      "metadata": {
        "collapsed": true,
        "id": "44GioNvXln-r"
      },
      "source": [
        ""
      ],
      "execution_count": 43,
      "outputs": []
    },
    {
      "cell_type": "markdown",
      "metadata": {
        "id": "HL33YyCNln-s"
      },
      "source": [
        "**58.**  What if we want to plot multiple things?  Pandas allows you to pass in a matplotlib *Axis* object for plots, and plots will also return an Axis object.\n",
        "\n",
        "Make a bar plot of monthly revenue with a line plot of monthly advertising spending (numbers in millions)\n",
        "\n",
        "```\n",
        "df = pd.DataFrame({\"revenue\":[57,68,63,71,72,90,80,62,59,51,47,52],\n",
        "                   \"advertising\":[2.1,1.9,2.7,3.0,3.6,3.2,2.7,2.4,1.8,1.6,1.3,1.9],\n",
        "                   \"month\":range(12)\n",
        "                  })\n",
        "```"
      ]
    },
    {
      "cell_type": "code",
      "metadata": {
        "collapsed": true,
        "id": "UsZtHgvTln-s"
      },
      "source": [
        ""
      ],
      "execution_count": 43,
      "outputs": []
    },
    {
      "cell_type": "markdown",
      "metadata": {
        "id": "o9uJmmP2ln-s"
      },
      "source": [
        "Now we're finally ready to create a candlestick chart, which is a very common tool used to analyze stock price data.  A candlestick chart shows the opening, closing, highest, and lowest price for a stock during a time window.  The color of the \"candle\" (the thick part of the bar) is green if the stock closed above its opening price, or red if below.\n",
        "\n",
        "![Candlestick Example](img/candle.jpg)\n",
        "\n",
        "This was initially designed to be a pandas plotting challenge, but it just so happens that this type of plot is just not feasible using pandas' methods.  If you are unfamiliar with matplotlib, we have provided a function that will plot the chart for you so long as you can use pandas to get the data into the correct format.\n",
        "\n",
        "Your first step should be to get the data in the correct format using pandas' time-series grouping function.  We would like each candle to represent an hour's worth of data.  You can write your own aggregation function which returns the open/high/low/close, but pandas has a built-in which also does this."
      ]
    },
    {
      "cell_type": "markdown",
      "metadata": {
        "id": "ArBOp6lrln-t"
      },
      "source": [
        "The below cell contains helper functions.  Call ```day_stock_data()``` to generate a DataFrame containing the prices a hypothetical stock sold for, and the time the sale occurred.  Call ```plot_candlestick(df)``` on your properly aggregated and formatted stock data to print the candlestick chart."
      ]
    },
    {
      "cell_type": "code",
      "metadata": {
        "collapsed": true,
        "id": "GgFA5x7aln-t"
      },
      "source": [
        "import numpy as np\n",
        "def float_to_time(x):\n",
        "    return str(int(x)) + \":\" + str(int(x%1 * 60)).zfill(2) + \":\" + str(int(x*60 % 1 * 60)).zfill(2)\n",
        "\n",
        "def day_stock_data():\n",
        "    #NYSE is open from 9:30 to 4:00\n",
        "    time = 9.5\n",
        "    price = 100\n",
        "    results = [(float_to_time(time), price)]\n",
        "    while time < 16:\n",
        "        elapsed = np.random.exponential(.001)\n",
        "        time += elapsed\n",
        "        if time > 16:\n",
        "            break\n",
        "        price_diff = np.random.uniform(.999, 1.001)\n",
        "        price *= price_diff\n",
        "        results.append((float_to_time(time), price))\n",
        "    \n",
        "    \n",
        "    df = pd.DataFrame(results, columns = ['time','price'])\n",
        "    df.time = pd.to_datetime(df.time)\n",
        "    return df\n",
        "\n",
        "#Don't read me unless you get stuck!\n",
        "def plot_candlestick(agg):\n",
        "    \"\"\"\n",
        "    agg is a DataFrame which has a DatetimeIndex and five columns: [\"open\",\"high\",\"low\",\"close\",\"color\"]\n",
        "    \"\"\"\n",
        "    fig, ax = plt.subplots()\n",
        "    for time in agg.index:\n",
        "        ax.plot([time.hour] * 2, agg.loc[time, [\"high\",\"low\"]].values, color = \"black\")\n",
        "        ax.plot([time.hour] * 2, agg.loc[time, [\"open\",\"close\"]].values, color = agg.loc[time, \"color\"], linewidth = 10)\n",
        "\n",
        "    ax.set_xlim((8,16))\n",
        "    ax.set_ylabel(\"Price\")\n",
        "    ax.set_xlabel(\"Hour\")\n",
        "    ax.set_title(\"OHLC of Stock Value During Trading Day\")\n",
        "    plt.show()"
      ],
      "execution_count": 44,
      "outputs": []
    },
    {
      "cell_type": "markdown",
      "metadata": {
        "id": "GqowdWT9ln-t"
      },
      "source": [
        "**59.** Generate a day's worth of random stock data, and aggregate / reformat it so that it has hourly summaries of the opening, highest, lowest, and closing prices"
      ]
    },
    {
      "cell_type": "code",
      "metadata": {
        "collapsed": true,
        "id": "6Tiv8Co_ln-u"
      },
      "source": [
        ""
      ],
      "execution_count": 44,
      "outputs": []
    },
    {
      "cell_type": "markdown",
      "metadata": {
        "id": "u0ufwH-2ln-u"
      },
      "source": [
        "**60.** Now that you have your properly-formatted data, try to plot it yourself as a candlestick chart.  Use the ```plot_candlestick(df)``` function above, or matplotlib's [```plot``` documentation](https://matplotlib.org/api/_as_gen/matplotlib.axes.Axes.plot.html) if you get stuck."
      ]
    },
    {
      "cell_type": "code",
      "metadata": {
        "collapsed": true,
        "id": "d4hkluuoln-u"
      },
      "source": [
        ""
      ],
      "execution_count": 44,
      "outputs": []
    },
    {
      "cell_type": "markdown",
      "metadata": {
        "id": "4Ycu7Ylhln-v"
      },
      "source": [
        "*More exercises to follow soon...*"
      ]
    }
  ]
}